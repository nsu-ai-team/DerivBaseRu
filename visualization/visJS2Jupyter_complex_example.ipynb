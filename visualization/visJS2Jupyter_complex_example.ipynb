{
 "cells": [
  {
   "cell_type": "markdown",
   "metadata": {},
   "source": [
    "# More complex network styling for visJS2jupyter\n",
    "\n",
    "------------\n",
    "\n",
    "Authors: Brin Rosenthal (sbrosenthal@ucsd.edu), Mikayla Webster (m1webste@ucsd.edu), Julia Len (jlen@ucsd.edu)\n",
    "\n",
    "-----------\n",
    "\n"
   ]
  },
  {
   "cell_type": "markdown",
   "metadata": {},
   "source": [
    "## Import packages"
   ]
  },
  {
   "cell_type": "code",
   "execution_count": 70,
   "metadata": {},
   "outputs": [
    {
     "data": {
      "text/plain": [
       "<module 'visJS2jupyter.visJS_module' from '/home/agent/.local/lib/python3.6/site-packages/visJS2jupyter/visJS_module.py'>"
      ]
     },
     "execution_count": 70,
     "metadata": {},
     "output_type": "execute_result"
    }
   ],
   "source": [
    "import numpy as np\n",
    "from random import randint\n",
    "import math\n",
    "import matplotlib as mpl\n",
    "import networkx as nx\n",
    "from importlib import reload\n",
    "#from visJS2jupyter import *\n",
    "from visJS2jupyter import visJS_module\n",
    "reload(visJS_module)"
   ]
  },
  {
   "cell_type": "code",
   "execution_count": 130,
   "metadata": {},
   "outputs": [],
   "source": [
    "n_vertices = 80"
   ]
  },
  {
   "cell_type": "code",
   "execution_count": 131,
   "metadata": {},
   "outputs": [],
   "source": [
    "# create a simple graph\n",
    "G = nx.connected_watts_strogatz_graph(n_vertices,3,.3)\n",
    "nodes = list(G.nodes()) # type cast to list in order to make compatible with networkx 1.11 and 2.0\n",
    "edges = list(G.edges()) # for nx 2.0, returns an \"EdgeView\" object rather than an iterable"
   ]
  },
  {
   "cell_type": "markdown",
   "metadata": {},
   "source": [
    "# Map node attributes to visual properties, and style the nodes and edges\n",
    "\n",
    "- To map node attributes to properties, simply add the property to the graph as a node-attribute, and use the return_node_to_color function"
   ]
  },
  {
   "cell_type": "code",
   "execution_count": 132,
   "metadata": {},
   "outputs": [],
   "source": [
    "# add a node attributes to color-code by\n",
    "cc = nx.clustering(G)\n",
    "degree = dict(G.degree()) # nx 2.0 returns a \"DegreeView\" object. Cast to dict to maintain compatibility with nx 1.11\n",
    "bc = nx.betweenness_centrality(G)\n",
    "\n",
    "nx.set_node_attributes(G, name = 'clustering_coefficient', values = cc) # parameter order for name and values is switched \n",
    "nx.set_node_attributes(G, name = 'degree', values = degree)             # between networkx 1.11 and 2.0, therefore we must\n",
    "nx.set_node_attributes(G, name = 'betweenness_centrality', values = bc) # explicitly pass our arguments \n",
    "                                                                        # (not implicitly through position) "
   ]
  },
  {
   "cell_type": "code",
   "execution_count": 133,
   "metadata": {},
   "outputs": [],
   "source": [
    "# add edge attribute weight\n",
    "weights=[randint(0,9) for p in range(len(edges))]\n",
    "edge_to_weight = dict(zip(edges, weights))\n",
    "nx.set_edge_attributes(G, name = 'weight', values = edge_to_weight)"
   ]
  },
  {
   "cell_type": "code",
   "execution_count": 134,
   "metadata": {},
   "outputs": [],
   "source": [
    "# setting shape of each node using a dictionary\n",
    "#stars = ['star']*20 # some will be stars\n",
    "circles = ['dot'] * n_vertices # some will be circles\n",
    "shapes = circles\n",
    "node_to_shape = dict(zip(nodes, shapes))"
   ]
  },
  {
   "cell_type": "markdown",
   "metadata": {},
   "source": [
    "<a id='interactive_network'></a>\n",
    "### Interactive network\n",
    "\n",
    "TIP: If you get errors running the following cell, try updating visJS2jupyter (pip install visJS2jupyter --upgrade). This cell is dependent on an update made on March 9th, 2018"
   ]
  },
  {
   "cell_type": "code",
   "execution_count": 135,
   "metadata": {},
   "outputs": [],
   "source": [
    "# map the betweenness centrality to the node color, using matplotlib spring_r colormap\n",
    "node_to_color = visJS_module.return_node_to_color(G,field_to_map='betweenness_centrality',cmap=mpl.cm.winter,alpha = 1,\n",
    "                                                 color_max_frac = 0.2,color_min_frac = .0, vmin = 0, vmax = 0.08)\n",
    "\n",
    "# set node initial positions using networkx's spring_layout function\n",
    "pos = nx.spring_layout(G)\n",
    "\n",
    "# per node attributes\n",
    "nodes_dict = [{\"id\":'слово' + str(n),\n",
    "               \"color\":node_to_color[n],\n",
    "               \"degree\":nx.degree(G,n),\n",
    "               \"node_shape\": node_to_shape[n],\n",
    "               \"x\":pos[n][0]*700,\n",
    "               \"y\":pos[n][1]*700} for n in nodes\n",
    "              ]\n",
    "\n",
    "# map to indices for source/target in edges\n",
    "node_map = dict(zip(nodes,range(len(nodes)))) \n",
    "\n",
    "# map colors to edges based on degree\n",
    "edge_to_color = visJS_module.return_edge_to_color(G,field_to_map='weight',cmap=mpl.cm.Oranges,alpha = 1.0, color_vals_transform = None,ceil_val=10,\n",
    "                        vmin=0,vmax=10)\n",
    "\n",
    "# per edge attributes\n",
    "edges_dict = [{\"source\":node_map[edges[i][0]], \"target\":node_map[edges[i][1]], \n",
    "              \"color\":edge_to_color[edges[i]], \n",
    "              \"title\":'edge_' + str(i), \"label\":'E_' + str(i)} for i in range(len(edges))]\n"
   ]
  },
  {
   "cell_type": "code",
   "execution_count": 136,
   "metadata": {},
   "outputs": [],
   "source": [
    "output = open('graph.html', 'w')\n",
    "output.write(\n",
    "visJS_module.visjs_network(nodes_dict,edges_dict,\n",
    "                          #edge_title_field=\"title\",\n",
    "                          #edge_label_field=\"label\",\n",
    "                          node_label_field=\"id\",\n",
    "                          node_size_multiplier=7,\n",
    "                          node_size_transform = '',\n",
    "                          node_color_highlight_border='red',\n",
    "                          node_color_highlight_background='#D3918B',\n",
    "                          node_color_hover_border='blue',\n",
    "                          node_color_hover_background='#8BADD3',\n",
    "                          node_font_size=20,\n",
    "                          edge_arrow_to=True,\n",
    "                          physics_enabled=False,\n",
    "                          edge_color_highlight='#8A324E',\n",
    "                          edge_color_hover='#8BADD3',\n",
    "                          edge_width=3,\n",
    "                          max_velocity=15,\n",
    "                          min_velocity=1).data)\n",
    "output.close()"
   ]
  },
  {
   "cell_type": "code",
   "execution_count": null,
   "metadata": {},
   "outputs": [],
   "source": []
  },
  {
   "cell_type": "code",
   "execution_count": null,
   "metadata": {},
   "outputs": [],
   "source": []
  },
  {
   "cell_type": "code",
   "execution_count": null,
   "metadata": {},
   "outputs": [],
   "source": []
  },
  {
   "cell_type": "raw",
   "metadata": {},
   "source": [
    "output = open('graph.html', 'w')\n",
    "output.write(\n",
    "visJS_module.visjs_network(nodes_dict,edges_dict,\n",
    "                          #edge_title_field=\"title\",\n",
    "                          #edge_label_field=\"label\",\n",
    "                          node_label_field=\"id\",\n",
    "                          node_size_multiplier=7,\n",
    "                          node_size_transform = '',\n",
    "                          node_color_highlight_border='red',\n",
    "                          node_color_highlight_background='#D3918B',\n",
    "                          node_color_hover_border='blue',\n",
    "                          node_color_hover_background='#8BADD3',\n",
    "                          node_font_size=25,\n",
    "                          edge_arrow_to=True,\n",
    "                          physics_enabled=False,\n",
    "                          edge_color_highlight='#8A324E',\n",
    "                          edge_color_hover='#8BADD3',\n",
    "                          edge_width=3,\n",
    "                          max_velocity=15,\n",
    "                          min_velocity=1).data)\n",
    "output.close()"
   ]
  },
  {
   "cell_type": "code",
   "execution_count": null,
   "metadata": {},
   "outputs": [],
   "source": []
  }
 ],
 "metadata": {
  "kernelspec": {
   "display_name": "Python 3",
   "language": "python",
   "name": "python3"
  },
  "language_info": {
   "codemirror_mode": {
    "name": "ipython",
    "version": 3
   },
   "file_extension": ".py",
   "mimetype": "text/x-python",
   "name": "python",
   "nbconvert_exporter": "python",
   "pygments_lexer": "ipython3",
   "version": "3.6.5"
  }
 },
 "nbformat": 4,
 "nbformat_minor": 1
}
