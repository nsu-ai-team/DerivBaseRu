{
 "cells": [
  {
   "cell_type": "code",
   "execution_count": 1,
   "metadata": {},
   "outputs": [],
   "source": [
    "from compact_rules import *"
   ]
  },
  {
   "cell_type": "code",
   "execution_count": 2,
   "metadata": {},
   "outputs": [
    {
     "name": "stderr",
     "output_type": "stream",
     "text": [
      "/home/agent/anaconda3/lib/python3.6/importlib/_bootstrap.py:219: RuntimeWarning: numpy.dtype size changed, may indicate binary incompatibility. Expected 96, got 88\n",
      "  return f(*args, **kwds)\n",
      "/home/agent/anaconda3/lib/python3.6/importlib/_bootstrap.py:219: RuntimeWarning: numpy.dtype size changed, may indicate binary incompatibility. Expected 96, got 88\n",
      "  return f(*args, **kwds)\n"
     ]
    }
   ],
   "source": [
    "import pandas as pd"
   ]
  },
  {
   "cell_type": "code",
   "execution_count": 3,
   "metadata": {},
   "outputs": [],
   "source": [
    "df = pd.read_csv('wiki_ADV.csv')"
   ]
  },
  {
   "cell_type": "code",
   "execution_count": 4,
   "metadata": {},
   "outputs": [
    {
     "data": {
      "text/html": [
       "<div>\n",
       "<style scoped>\n",
       "    .dataframe tbody tr th:only-of-type {\n",
       "        vertical-align: middle;\n",
       "    }\n",
       "\n",
       "    .dataframe tbody tr th {\n",
       "        vertical-align: top;\n",
       "    }\n",
       "\n",
       "    .dataframe thead th {\n",
       "        text-align: right;\n",
       "    }\n",
       "</style>\n",
       "<table border=\"1\" class=\"dataframe\">\n",
       "  <thead>\n",
       "    <tr style=\"text-align: right;\">\n",
       "      <th></th>\n",
       "      <th>CUR_WORD</th>\n",
       "      <th>TARGET_WORD</th>\n",
       "    </tr>\n",
       "  </thead>\n",
       "  <tbody>\n",
       "    <tr>\n",
       "      <th>0</th>\n",
       "      <td>абактериально</td>\n",
       "      <td>абактериальный</td>\n",
       "    </tr>\n",
       "    <tr>\n",
       "      <th>1</th>\n",
       "      <td>абдоминально</td>\n",
       "      <td>абдоминальный</td>\n",
       "    </tr>\n",
       "    <tr>\n",
       "      <th>2</th>\n",
       "      <td>аберрантно</td>\n",
       "      <td>аберрантный</td>\n",
       "    </tr>\n",
       "    <tr>\n",
       "      <th>3</th>\n",
       "      <td>аберрационно</td>\n",
       "      <td>аберрационный</td>\n",
       "    </tr>\n",
       "    <tr>\n",
       "      <th>4</th>\n",
       "      <td>аберрометрически</td>\n",
       "      <td>аберрометрический</td>\n",
       "    </tr>\n",
       "  </tbody>\n",
       "</table>\n",
       "</div>"
      ],
      "text/plain": [
       "           CUR_WORD        TARGET_WORD\n",
       "0     абактериально     абактериальный\n",
       "1      абдоминально      абдоминальный\n",
       "2        аберрантно        аберрантный\n",
       "3      аберрационно      аберрационный\n",
       "4  аберрометрически  аберрометрический"
      ]
     },
     "execution_count": 4,
     "metadata": {},
     "output_type": "execute_result"
    }
   ],
   "source": [
    "df.head()"
   ]
  },
  {
   "cell_type": "code",
   "execution_count": 5,
   "metadata": {},
   "outputs": [
    {
     "data": {
      "text/plain": [
       "(6747, 2)"
      ]
     },
     "execution_count": 5,
     "metadata": {},
     "output_type": "execute_result"
    }
   ],
   "source": [
    "df.shape"
   ]
  },
  {
   "cell_type": "code",
   "execution_count": 6,
   "metadata": {},
   "outputs": [],
   "source": [
    "advs_test = []"
   ]
  },
  {
   "cell_type": "code",
   "execution_count": 7,
   "metadata": {},
   "outputs": [],
   "source": [
    "test = Derivation()"
   ]
  },
  {
   "cell_type": "code",
   "execution_count": 8,
   "metadata": {},
   "outputs": [],
   "source": [
    "pos = 0\n",
    "neg = 0"
   ]
  },
  {
   "cell_type": "code",
   "execution_count": 9,
   "metadata": {},
   "outputs": [],
   "source": [
    "pos_examples = []\n",
    "neg_examples = []"
   ]
  },
  {
   "cell_type": "code",
   "execution_count": 10,
   "metadata": {},
   "outputs": [],
   "source": [
    "for i in range(df.shape[0]):\n",
    "    s = df[i:i+1].values[0]\n",
    "    \n",
    "    w_a = s[0].lower()\n",
    "    w_b = s[1].lower()\n",
    "    \n",
    "    advs_test.append(w_a.replace('ё', 'е'))\n",
    "\n",
    "    correct_generated = False\n",
    "    \n",
    "    pos_a = 'adv'\n",
    "    \n",
    "    ans = []\n",
    "    \n",
    "    for pos_b in {'adj', 'adv', 'noun', 'verb', 'num'}:\n",
    "        for rule in rules_all[pos_a]:\n",
    "            if rule.pos_b == pos_b:\n",
    "                ans += test.apply_pattern(POS(w_b, pos_b), rule)\n",
    "    \n",
    "    for elem in ans:\n",
    "        if elem.graphics.lower().replace('ё', 'е') == w_a.replace('ё', 'е'):\n",
    "            correct_generated = True\n",
    "    if correct_generated:\n",
    "        pos += 1\n",
    "        pos_examples.append(w_a)\n",
    "    else:\n",
    "        neg += 1\n",
    "        neg_examples.append(w_a)"
   ]
  },
  {
   "cell_type": "code",
   "execution_count": 11,
   "metadata": {},
   "outputs": [
    {
     "name": "stdout",
     "output_type": "stream",
     "text": [
      "6217 530\n"
     ]
    }
   ],
   "source": [
    "print(pos, neg)"
   ]
  },
  {
   "cell_type": "code",
   "execution_count": 12,
   "metadata": {},
   "outputs": [
    {
     "name": "stdout",
     "output_type": "stream",
     "text": [
      "босиком\n",
      "броско\n",
      "в-восьмых\n",
      "в-девятых\n",
      "в-десятых\n",
      "в-пятых\n",
      "в-седьмых\n",
      "в-четвёртых\n",
      "в-шестых\n",
      "вблизи\n",
      "вверху\n",
      "ввечеру\n",
      "вволю\n",
      "ввосьмером\n",
      "вгорячах\n",
      "вдалеке\n",
      "вдали\n",
      "вдвоём\n",
      "вдвойне\n",
      "вдевятером\n",
      "вдесятером\n",
      "вдобавок\n",
      "вдоволь\n",
      "вдогонку\n",
      "вдолбёжку\n",
      "вдосыть\n",
      "вдребезги\n",
      "верхами\n",
      "веско\n",
      "вживе\n",
      "взаймы\n",
      "взаперти\n",
      "взапивку\n",
      "взаправду\n",
      "взапуски\n",
      "взахлёб\n",
      "взрыд\n",
      "вкоротке\n",
      "вкось\n",
      "вкратце\n",
      "вкривь\n",
      "влеве\n",
      "вмале\n",
      "вместе\n",
      "вмоготу\n",
      "внаброс\n",
      "внаброску\n",
      "внаймы\n",
      "внакидку\n",
      "внакладе\n",
      "внакладку\n",
      "внаклонку\n",
      "внакрой\n",
      "внапашку\n",
      "внатяжку\n",
      "внахлёст\n",
      "внахлёстку\n",
      "вначале\n",
      "внизу\n",
      "внове\n",
      "вновь\n",
      "внутри\n",
      "внутрь\n",
      "во-вторых\n",
      "вовек\n",
      "вовеки\n",
      "вовне\n",
      "вовнутрь\n",
      "вовремя\n",
      "вовсе\n",
      "воистину\n",
      "вокруг\n",
      "волей\n",
      "вообще\n",
      "вослед\n",
      "впервые\n",
      "впервь\n",
      "вперебежку\n",
      "вперебивку\n",
      "вперебой\n",
      "вперевёртку\n",
      "вперегонки\n",
      "вперегонку\n",
      "впереди\n",
      "вперемежку\n",
      "впеременку\n",
      "вперемешку\n",
      "вперерыв\n",
      "вперехлёст\n",
      "вповал\n",
      "вполглаза\n",
      "вполголоса\n",
      "вполдерева\n",
      "вполнакала\n",
      "вполне\n",
      "вполнеба\n",
      "вполноги\n",
      "вполоборота\n",
      "вполоткрыта\n",
      "вполпьяна\n",
      "вполсилы\n",
      "вполслуха\n",
      "вполсыта\n",
      "вполуоборот\n",
      "вполуха\n",
      "вполцены\n",
      "вполшага\n",
      "впоперечь\n",
      "впоследнее\n",
      "впоследние\n",
      "впоследствии\n",
      "вприглядку\n",
      "впридачу\n",
      "вприкуску\n",
      "вприпрыжку\n",
      "вприскок\n",
      "вприскочку\n",
      "вприсядку\n",
      "впритирку\n",
      "впритруску\n",
      "впритык\n",
      "вприщурку\n",
      "впроводку\n",
      "впроголодь\n",
      "впрожелть\n",
      "впрозелень\n",
      "впрозолоть\n",
      "впрохолодь\n",
      "впрямь\n",
      "впусте\n",
      "впятером\n",
      "вразбежку\n",
      "вразбивку\n",
      "вразброску\n",
      "вразвалку\n",
      "враздрай\n",
      "вразлёт\n",
      "вразмах\n",
      "вразмашку\n",
      "вразрядку\n",
      "враскачку\n",
      "враскидку\n",
      "враскоряк\n",
      "враскорячку\n",
      "враскос\n",
      "враспашку\n",
      "враспор\n",
      "враспояску\n",
      "врассыпку\n",
      "врастопырку\n",
      "врастяжку\n",
      "временами\n",
      "временем\n",
      "вровень\n",
      "всемером\n",
      "всерьёз\n",
      "вскачь\n",
      "вскоп\n",
      "вскоре\n",
      "вскорости\n",
      "всмятку\n",
      "всухе\n",
      "втайне\n",
      "втихаря\n",
      "второпях\n",
      "втридешева\n",
      "втридорога\n",
      "втроём\n",
      "втройне\n",
      "вчерне\n",
      "вчетвером\n",
      "вчуже\n",
      "вшестером\n",
      "въяве\n",
      "въявь\n",
      "годами\n",
      "голышом\n",
      "гольём\n",
      "голяком\n",
      "горькохонько\n",
      "гуськом\n",
      "дважды\n",
      "днями\n",
      "довеку\n",
      "доверху\n",
      "донекуда\n",
      "донельзя\n",
      "донизу\n",
      "допрежде\n",
      "дороже\n",
      "досюда\n",
      "дыбом\n",
      "единожды\n",
      "ежежды\n",
      "живмя\n",
      "живьём\n",
      "завались\n",
      "заведомо\n",
      "завсегда\n",
      "загодя\n",
      "загрёбом\n",
      "задаром\n",
      "задешево\n",
      "задёшево\n",
      "задолго\n",
      "задорого\n",
      "заедино\n",
      "заживо\n",
      "зазнамо\n",
      "зазря\n",
      "замертво\n",
      "замуж\n",
      "замужем\n",
      "занапрасно\n",
      "заневолю\n",
      "занедорого\n",
      "заново\n",
      "занужду\n",
      "заодно\n",
      "запанибрата\n",
      "запоем\n",
      "запоздно\n",
      "заполдень\n",
      "заправду\n",
      "запросто\n",
      "зараз\n",
      "заране\n",
      "заранее\n",
      "засветло\n",
      "затемно\n",
      "затепло\n",
      "заточенный\n",
      "заутра\n",
      "зачастую\n",
      "здоровско\n",
      "изблизи\n",
      "извека\n",
      "извнутри\n",
      "издалеча\n",
      "издали\n",
      "издаля\n",
      "издетства\n",
      "издревле\n",
      "изначала\n",
      "изнизу\n",
      "изнутри\n",
      "иначе\n",
      "исподлобья\n",
      "исподтиха\n",
      "исподтишка\n",
      "исстари\n",
      "капельку\n",
      "кверху\n",
      "кзади\n",
      "книзу\n",
      "кпереди\n",
      "крохотку\n",
      "крошечку\n",
      "кряду\n",
      "кстати\n",
      "куце\n",
      "легохонько\n",
      "ливмя\n",
      "лишко\n",
      "махом\n",
      "мельком\n",
      "многажды\n",
      "молодцом\n",
      "молчком\n",
      "навеки\n",
      "наверное\n",
      "наверняк\n",
      "наверняка\n",
      "наверху\n",
      "навеселе\n",
      "навкось\n",
      "навкрест\n",
      "навряд\n",
      "навсегда\n",
      "навыкате\n",
      "нагишмя\n",
      "нагишом\n",
      "наготове\n",
      "надолго\n",
      "наедине\n",
      "назавтра\n",
      "назади\n",
      "наземь\n",
      "наивозможно\n",
      "наизготове\n",
      "наизусть\n",
      "наискоски\n",
      "наискосок\n",
      "наискось\n",
      "накануне\n",
      "накоротке\n",
      "накоротко\n",
      "накось\n",
      "накрепко\n",
      "налегке\n",
      "намного\n",
      "нанизу\n",
      "наопашь\n",
      "наотказ\n",
      "наотмашь\n",
      "наперебой\n",
      "наперевес\n",
      "наперегонки\n",
      "напереди\n",
      "наперекоски\n",
      "наперекосяк\n",
      "наперечёт\n",
      "напорядках\n",
      "напоследки\n",
      "напоследок\n",
      "напредки\n",
      "напрямик\n",
      "напрямки\n",
      "напрямую\n",
      "наравне\n",
      "наране\n",
      "нараспах\n",
      "нараспашку\n",
      "нарасхват\n",
      "наряду\n",
      "наскоками\n",
      "наспех\n",
      "настолечко\n",
      "настороже\n",
      "настрого\n",
      "насыпом\n",
      "натощак\n",
      "натяжеле\n",
      "наудалую\n",
      "начистую\n",
      "наяву\n",
      "неброско\n",
      "невзначай\n",
      "неволей\n",
      "невпопад\n",
      "невпродых\n",
      "невпротык\n",
      "недалечко\n",
      "немигающе\n",
      "неподалёку\n",
      "неподалёчку\n",
      "несолоно\n",
      "нимало\n",
      "ниотколе\n",
      "нисколечко\n",
      "нисколько\n",
      "ничком\n",
      "ножками\n",
      "ночами\n",
      "обок\n",
      "обочь\n",
      "одаль\n",
      "одвуконь\n",
      "одиножды\n",
      "однажды\n",
      "окрай\n",
      "окрест\n",
      "округ\n",
      "особнячком\n",
      "отроду\n",
      "отчасти\n",
      "парами\n",
      "пёхом\n",
      "пешком\n",
      "плашмя\n",
      "плоско\n",
      "по-латыни\n",
      "по-маминому\n",
      "поблизости\n",
      "поверху\n",
      "поврозь\n",
      "повсюду\n",
      "поделом\n",
      "подолгу\n",
      "подряд\n",
      "подчас\n",
      "подчистую\n",
      "поедом\n",
      "позавчера\n",
      "позади\n",
      "позарез\n",
      "поистине\n",
      "поколе\n",
      "покуда\n",
      "пол-одиннадцатого\n",
      "полвосьмого\n",
      "полвторого\n",
      "полдвенадцатого\n",
      "полдевятого\n",
      "полдесятого\n",
      "полегоньку\n",
      "ползком\n",
      "полностью\n",
      "полпервого\n",
      "полпятого\n",
      "полседьмого\n",
      "полтретьего\n",
      "полчетвёртого\n",
      "полшестого\n",
      "помаленьку\n",
      "помалёху\n",
      "помалу\n",
      "помногу\n",
      "понапрасну\n",
      "понарошку\n",
      "понаслышке\n",
      "поначалу\n",
      "поневоле\n",
      "понемногу\n",
      "понемножку\n",
      "понизу\n",
      "поныне\n",
      "поодиночке\n",
      "попервоначалу\n",
      "попросту\n",
      "попусту\n",
      "поровну\n",
      "порознь\n",
      "посейчас\n",
      "посередине\n",
      "посерёдке\n",
      "послезавтра\n",
      "посреди\n",
      "посредине\n",
      "посредь\n",
      "посуху\n",
      "потемну\n",
      "потихоньку\n",
      "поутру\n",
      "пошепту\n",
      "пребойко\n",
      "пребольно\n",
      "превыше\n",
      "прегадко\n",
      "прегорько\n",
      "предико\n",
      "предовольно\n",
      "предолго\n",
      "презло\n",
      "премного\n",
      "проездом\n",
      "пропадом\n",
      "проходом\n",
      "прямиком\n",
      "пулей\n",
      "рано\n",
      "рядком\n",
      "рядышком\n",
      "сбоку\n",
      "сбочку\n",
      "свежевато\n",
      "сверху\n",
      "свысока\n",
      "сглупа\n",
      "сгоряча\n",
      "сдуру\n",
      "семижды\n",
      "сзади\n",
      "сиднем\n",
      "силком\n",
      "слева\n",
      "слегка\n",
      "слыхом\n",
      "смалу\n",
      "смлада\n",
      "смладу\n",
      "смолоду\n",
      "сначала\n",
      "снизу\n",
      "снова\n",
      "солоно\n",
      "сообща\n",
      "сослепа\n",
      "сослепу\n",
      "сперва\n",
      "спереди\n",
      "спецом\n",
      "сплеча\n",
      "сподряд\n",
      "сполна\n",
      "справа\n",
      "спросонков\n",
      "спроста\n",
      "спуста\n",
      "спьяна\n",
      "спьяну\n",
      "сразу\n",
      "средненько\n",
      "сродни\n",
      "сроду\n",
      "срывка\n",
      "срыву\n",
      "сряду\n",
      "стемна\n",
      "стойком\n",
      "стылу\n",
      "сызвека\n",
      "сызвеку\n",
      "сыздавна\n",
      "сыздетства\n",
      "сызмала\n",
      "сызмалу\n",
      "сызмальства\n",
      "сызнова\n",
      "сызподтиха\n",
      "сырьем\n",
      "тайком\n",
      "тихохонько\n",
      "тишком\n",
      "торчком\n",
      "трижды\n",
      "тычком\n",
      "украдкой\n",
      "умеючи\n",
      "урывками\n",
      "урывочками\n",
      "утречком\n",
      "ходуном\n",
      "цветами\n",
      "целиком\n",
      "часами\n",
      "четырежды\n",
      "чуточку\n",
      "шажком\n",
      "шепотком\n"
     ]
    }
   ],
   "source": [
    "for neg_ex in neg_examples:\n",
    "    print(neg_ex)"
   ]
  },
  {
   "cell_type": "code",
   "execution_count": 13,
   "metadata": {},
   "outputs": [
    {
     "name": "stdout",
     "output_type": "stream",
     "text": [
      "0.9214465688454128\n"
     ]
    }
   ],
   "source": [
    "print(pos / (neg + pos))"
   ]
  },
  {
   "cell_type": "code",
   "execution_count": null,
   "metadata": {},
   "outputs": [],
   "source": []
  },
  {
   "cell_type": "code",
   "execution_count": null,
   "metadata": {},
   "outputs": [],
   "source": []
  },
  {
   "cell_type": "code",
   "execution_count": null,
   "metadata": {},
   "outputs": [],
   "source": []
  },
  {
   "cell_type": "code",
   "execution_count": null,
   "metadata": {},
   "outputs": [],
   "source": []
  },
  {
   "cell_type": "code",
   "execution_count": 14,
   "metadata": {},
   "outputs": [],
   "source": [
    "from lark import Lark\n",
    "from lark.tree import pydot__tree_to_png    # Just a neat utility function\n",
    "\n",
    "parser = Lark(r\"\"\"\n",
    "    value: SIGNED_NUMBER\n",
    "         | and\n",
    "         | or\n",
    "    or : \"[\" [value] (\"|\" value)* \"]\"\n",
    "    and : [value] (\"&\" and)* (\"&\" value)\n",
    "\n",
    "    %import common.SIGNED_NUMBER\n",
    "    %import common.WS\n",
    "    %ignore WS\n",
    "\n",
    "    \"\"\", start='value')"
   ]
  },
  {
   "cell_type": "code",
   "execution_count": 104,
   "metadata": {},
   "outputs": [],
   "source": [
    "text = \"[[1 & 2 | 3 & 4] & 5 | 6 & 7 ]\"\n",
    "#text = \"[[1 & 2 | 3 | 4 | 5 & 6 & 7 | 8 & 9 | 10] & 11 | 12]\"\n",
    "\n",
    "tree = parser.parse(text)"
   ]
  },
  {
   "cell_type": "code",
   "execution_count": 152,
   "metadata": {},
   "outputs": [],
   "source": [
    "def opers_to_digits(text):\n",
    "    opers = dict()\n",
    "    text_short = ''\n",
    "    round_brackets = 0\n",
    "    cur_oper = ''\n",
    "    for c in text:\n",
    "        if c == '(':\n",
    "            round_brackets += 1\n",
    "        if round_brackets == 0:\n",
    "            text_short += c\n",
    "        else:\n",
    "            cur_oper += c\n",
    "        if c == ')':\n",
    "            round_brackets -= 1\n",
    "            if round_brackets == 0:               \n",
    "                oper_str = cur_oper[1:-1]  # \"try plt\"\n",
    "                sep_ind = oper_str.find(',')\n",
    "                if sep_ind == -1:\n",
    "                    args = \"args={}\"\n",
    "                    mode_and_oper = oper_str\n",
    "                else:\n",
    "                    args = \"args=\" + oper_str[sep_ind + 1:].strip()\n",
    "                    mode_and_oper = oper_str[:sep_ind]\n",
    "                mode_and_oper = mode_and_oper.split()\n",
    "                if len(mode_and_oper) > 1:\n",
    "                    mode = mode_and_oper[0]\n",
    "                    oper = mode_and_oper[1]\n",
    "                else:\n",
    "                    mode = 'do'\n",
    "                    oper = mode_and_oper[0]\n",
    "                opers[len(opers)] = oper + \"(word=word, mode='\" + mode + \"', \" + args + \")\"\n",
    "                cur_oper = ''\n",
    "                text_short += str(len(opers)-1)\n",
    "    return text_short, opers\n",
    "    "
   ]
  },
  {
   "cell_type": "code",
   "execution_count": 175,
   "metadata": {},
   "outputs": [],
   "source": [
    "text_full = \"[(onlysfx, {'я', 'а', 'ь'}) & (delsfx, {'я', 'а', 'ь'}) | (excsfx, {'я', 'а', 'ь'}) & (replsfx, {('ей', 'ь')})] & (try plt) & (opt delvowel) & (addsfx, {'иный'})\""
   ]
  },
  {
   "cell_type": "code",
   "execution_count": 176,
   "metadata": {},
   "outputs": [],
   "source": [
    "text_short, opers = opers_to_digits(text_full)"
   ]
  },
  {
   "cell_type": "code",
   "execution_count": 177,
   "metadata": {},
   "outputs": [
    {
     "data": {
      "text/plain": [
       "('[0 & 1 | 2 & 3] & 4 & 5 & 6',\n",
       " {0: \"onlysfx(word=word, mode='do', args={'я', 'а', 'ь'})\",\n",
       "  1: \"delsfx(word=word, mode='do', args={'я', 'а', 'ь'})\",\n",
       "  2: \"excsfx(word=word, mode='do', args={'я', 'а', 'ь'})\",\n",
       "  3: \"replsfx(word=word, mode='do', args={('ей', 'ь')})\",\n",
       "  4: \"plt(word=word, mode='try', args={})\",\n",
       "  5: \"delvowel(word=word, mode='opt', args={})\",\n",
       "  6: \"addsfx(word=word, mode='do', args={'иный'})\"})"
      ]
     },
     "execution_count": 177,
     "metadata": {},
     "output_type": "execute_result"
    }
   ],
   "source": [
    "opers_to_digits(text_full)"
   ]
  },
  {
   "cell_type": "code",
   "execution_count": 178,
   "metadata": {},
   "outputs": [
    {
     "data": {
      "text/plain": [
       "{0: \"onlysfx(word=word, mode='do', args={'я', 'а', 'ь'})\",\n",
       " 1: \"delsfx(word=word, mode='do', args={'я', 'а', 'ь'})\",\n",
       " 2: \"excsfx(word=word, mode='do', args={'я', 'а', 'ь'})\",\n",
       " 3: \"replsfx(word=word, mode='do', args={('ей', 'ь')})\",\n",
       " 4: \"plt(word=word, mode='try', args={})\",\n",
       " 5: \"delvowel(word=word, mode='opt', args={})\",\n",
       " 6: \"addsfx(word=word, mode='do', args={'иный'})\"}"
      ]
     },
     "execution_count": 178,
     "metadata": {},
     "output_type": "execute_result"
    }
   ],
   "source": [
    "opers"
   ]
  },
  {
   "cell_type": "code",
   "execution_count": 179,
   "metadata": {},
   "outputs": [],
   "source": [
    "new_opers = dict()"
   ]
  },
  {
   "cell_type": "code",
   "execution_count": 180,
   "metadata": {},
   "outputs": [],
   "source": [
    "tree = parser.parse(text_short)"
   ]
  },
  {
   "cell_type": "code",
   "execution_count": 181,
   "metadata": {},
   "outputs": [
    {
     "name": "stdout",
     "output_type": "stream",
     "text": [
      "Tree(value, [Tree(and, [Tree(value, [Tree(and, [Tree(value, [Tree(and, [Tree(value, [Tree(or, [Tree(value, [Tree(and, [Tree(value, [Token(SIGNED_NUMBER, '0')]), Tree(value, [Token(SIGNED_NUMBER, '1')])])]), Tree(value, [Tree(and, [Tree(value, [Token(SIGNED_NUMBER, '2')]), Tree(value, [Token(SIGNED_NUMBER, '3')])])])])]), Tree(value, [Token(SIGNED_NUMBER, '4')])])]), Tree(value, [Token(SIGNED_NUMBER, '5')])])]), Tree(value, [Token(SIGNED_NUMBER, '6')])])])\n"
     ]
    }
   ],
   "source": [
    "print(tree)"
   ]
  },
  {
   "cell_type": "code",
   "execution_count": 182,
   "metadata": {},
   "outputs": [
    {
     "name": "stdout",
     "output_type": "stream",
     "text": [
      "value\n",
      "  and\n",
      "    value\n",
      "      and\n",
      "        value\n",
      "          and\n",
      "            value\n",
      "              or\n",
      "                value\n",
      "                  and\n",
      "                    value\t0\n",
      "                    value\t1\n",
      "                value\n",
      "                  and\n",
      "                    value\t2\n",
      "                    value\t3\n",
      "            value\t4\n",
      "        value\t5\n",
      "    value\t6\n",
      "\n"
     ]
    }
   ],
   "source": [
    "print(tree.pretty())"
   ]
  },
  {
   "cell_type": "code",
   "execution_count": 183,
   "metadata": {},
   "outputs": [],
   "source": [
    "pydot__tree_to_png(tree, \"syntax_tree.png\")"
   ]
  },
  {
   "cell_type": "code",
   "execution_count": 184,
   "metadata": {},
   "outputs": [],
   "source": [
    "from copy import deepcopy"
   ]
  },
  {
   "cell_type": "code",
   "execution_count": 185,
   "metadata": {},
   "outputs": [
    {
     "data": {
      "text/plain": [
       "Tree(value, [Token(SIGNED_NUMBER, '4')])"
      ]
     },
     "execution_count": 185,
     "metadata": {},
     "output_type": "execute_result"
    }
   ],
   "source": [
    "tree.children[0].children[0].children[0].children[0].children[0].children[1]"
   ]
  },
  {
   "cell_type": "code",
   "execution_count": null,
   "metadata": {},
   "outputs": [],
   "source": []
  },
  {
   "cell_type": "code",
   "execution_count": 186,
   "metadata": {},
   "outputs": [],
   "source": [
    "tree2 = deepcopy(tree)"
   ]
  },
  {
   "cell_type": "code",
   "execution_count": 187,
   "metadata": {},
   "outputs": [
    {
     "data": {
      "text/plain": [
       "Tree(value, [Tree(and, [Tree(value, [Tree(and, [Tree(value, [Tree(and, [Tree(value, [Tree(or, [Tree(value, [Tree(and, [Tree(value, [Token(SIGNED_NUMBER, '0')]), Tree(value, [Token(SIGNED_NUMBER, '1')])])]), Tree(value, [Tree(and, [Tree(value, [Token(SIGNED_NUMBER, '2')]), Tree(value, [Token(SIGNED_NUMBER, '3')])])])])]), Tree(value, [Token(SIGNED_NUMBER, '4')])])]), Tree(value, [Token(SIGNED_NUMBER, '5')])])]), Tree(value, [Token(SIGNED_NUMBER, '6')])])])"
      ]
     },
     "execution_count": 187,
     "metadata": {},
     "output_type": "execute_result"
    }
   ],
   "source": [
    "tree2"
   ]
  },
  {
   "cell_type": "code",
   "execution_count": 188,
   "metadata": {},
   "outputs": [],
   "source": [
    "leaf = tree.children[0].children[0].children[0].children[0].children[0].children[1]"
   ]
  },
  {
   "cell_type": "code",
   "execution_count": 189,
   "metadata": {},
   "outputs": [],
   "source": [
    "leaf = tree.children[0].children[0].children[0].children[0].children[0].children[0]"
   ]
  },
  {
   "cell_type": "code",
   "execution_count": 190,
   "metadata": {},
   "outputs": [
    {
     "data": {
      "text/plain": [
       "Tree(value, [Tree(or, [Tree(value, [Tree(and, [Tree(value, [Token(SIGNED_NUMBER, '0')]), Tree(value, [Token(SIGNED_NUMBER, '1')])])]), Tree(value, [Tree(and, [Tree(value, [Token(SIGNED_NUMBER, '2')]), Tree(value, [Token(SIGNED_NUMBER, '3')])])])])])"
      ]
     },
     "execution_count": 190,
     "metadata": {},
     "output_type": "execute_result"
    }
   ],
   "source": [
    "leaf"
   ]
  },
  {
   "cell_type": "code",
   "execution_count": 191,
   "metadata": {},
   "outputs": [
    {
     "data": {
      "text/plain": [
       "Tree(value, [Token(SIGNED_NUMBER, '6')])"
      ]
     },
     "execution_count": 191,
     "metadata": {},
     "output_type": "execute_result"
    }
   ],
   "source": [
    "tree.children[0].children[1]"
   ]
  },
  {
   "cell_type": "code",
   "execution_count": 202,
   "metadata": {},
   "outputs": [],
   "source": [
    "def go_tree(tree):\n",
    "    # лист\n",
    "    code = \"\"\n",
    "    if hasattr(tree.children[0], 'value'):\n",
    "        command = opers[int(tree.children[0].value)]\n",
    "        print(command)\n",
    "        code += \"# this is a leaf\\n\"\n",
    "        \"\"\"\n",
    "        code += \"new_res = []\\n\"\n",
    "        code += \"for word in cur_res:\\n\"\n",
    "        code += \"    new_res += \" + oper + \"(word=word, mode='\" + mode + \"', \" + args + \")\\n\"\n",
    "        code += \"cur_res = new_res\\n\"\n",
    "        #code += \"return cur_res\\n\"\n",
    "        \"\"\"\n",
    "    elif tree.children[0].data == 'or':\n",
    "        code += \"# this is an OR operation\\n\"\n",
    "        \"\"\"\n",
    "        code += \"new_res = []\\n\"\n",
    "        code += \"for child in tree.children[0].children:\\n\"\n",
    "        code += \"    new_res += \" + \"work_tree(child, cur_res)\\n\"\n",
    "        \"\"\"\n",
    "        for child in tree.children[0].children:\n",
    "            code += go_tree(child)\n",
    "    elif tree.children[0].data == 'and':\n",
    "        code += \"# this is an AND operation\\n\"\n",
    "        \n",
    "        #code += \"cur_res = work_tree(tree.children[0].children[0], cur_res)\\n\"\n",
    "        code += go_tree(tree.children[0].children[0])\n",
    "        #code += \"new_res = work_tree(tree.children[0].children[1], cur_res)\\n\"\n",
    "        code += go_tree(tree.children[0].children[1])\n",
    "        \n",
    "    return code"
   ]
  },
  {
   "cell_type": "code",
   "execution_count": 203,
   "metadata": {},
   "outputs": [
    {
     "name": "stdout",
     "output_type": "stream",
     "text": [
      "onlysfx(word=word, mode='do', args={'я', 'а', 'ь'})\n",
      "delsfx(word=word, mode='do', args={'я', 'а', 'ь'})\n",
      "excsfx(word=word, mode='do', args={'я', 'а', 'ь'})\n",
      "replsfx(word=word, mode='do', args={('ей', 'ь')})\n",
      "# this is an OR operation\n",
      "# this is an AND operation\n",
      "# this is a leaf\n",
      "# this is a leaf\n",
      "# this is an AND operation\n",
      "# this is a leaf\n",
      "# this is a leaf\n",
      "\n"
     ]
    }
   ],
   "source": [
    "word = 'низка'\n",
    "print(go_tree(leaf))"
   ]
  },
  {
   "cell_type": "code",
   "execution_count": 204,
   "metadata": {},
   "outputs": [
    {
     "name": "stdout",
     "output_type": "stream",
     "text": [
      "onlysfx(word=word, mode='do', args={'я', 'а', 'ь'})\n",
      "delsfx(word=word, mode='do', args={'я', 'а', 'ь'})\n",
      "excsfx(word=word, mode='do', args={'я', 'а', 'ь'})\n",
      "replsfx(word=word, mode='do', args={('ей', 'ь')})\n",
      "plt(word=word, mode='try', args={})\n",
      "delvowel(word=word, mode='opt', args={})\n",
      "addsfx(word=word, mode='do', args={'иный'})\n",
      "# this is an AND operation\n",
      "# this is an AND operation\n",
      "# this is an AND operation\n",
      "# this is an OR operation\n",
      "# this is an AND operation\n",
      "# this is a leaf\n",
      "# this is a leaf\n",
      "# this is an AND operation\n",
      "# this is a leaf\n",
      "# this is a leaf\n",
      "# this is a leaf\n",
      "# this is a leaf\n",
      "# this is a leaf\n",
      "\n"
     ]
    }
   ],
   "source": [
    "print(go_tree(tree))"
   ]
  },
  {
   "cell_type": "code",
   "execution_count": 206,
   "metadata": {},
   "outputs": [],
   "source": [
    "def compute_tree(tree, cur_results: list()):\n",
    "    # лист\n",
    "    if hasattr(tree.children[0], 'value'):\n",
    "        command = opers[int(tree.children[0].value)]\n",
    "        print(command)\n",
    "        new_results = []\n",
    "        for word in cur_results:\n",
    "            new_results += exec(command)\n",
    "    elif tree.children[0].data == 'or':\n",
    "        new_results = []\n",
    "        for child in tree.children[0].children:\n",
    "            new_results += compute_tree(child, cur_results)\n",
    "    elif tree.children[0].data == 'and':\n",
    "        new_results = compute_tree(tree.children[0].children[0], cur_results)\n",
    "        new_results = compute_tree(tree.children[0].children[1], new_results)\n",
    "        \n",
    "    return new_results"
   ]
  },
  {
   "cell_type": "code",
   "execution_count": null,
   "metadata": {},
   "outputs": [],
   "source": []
  },
  {
   "cell_type": "code",
   "execution_count": 207,
   "metadata": {},
   "outputs": [
    {
     "name": "stdout",
     "output_type": "stream",
     "text": [
      "onlysfx(word=word, mode='do', args={'я', 'а', 'ь'})\n"
     ]
    },
    {
     "ename": "TypeError",
     "evalue": "onlysfx() missing 2 required positional arguments: 'pos_b' and 'pos_a'",
     "output_type": "error",
     "traceback": [
      "\u001b[0;31m---------------------------------------------------------------------------\u001b[0m",
      "\u001b[0;31mTypeError\u001b[0m                                 Traceback (most recent call last)",
      "\u001b[0;32m<ipython-input-207-8f148df77c04>\u001b[0m in \u001b[0;36m<module>\u001b[0;34m()\u001b[0m\n\u001b[0;32m----> 1\u001b[0;31m \u001b[0mcompute_tree\u001b[0m\u001b[0;34m(\u001b[0m\u001b[0mtree\u001b[0m\u001b[0;34m,\u001b[0m \u001b[0;34m[\u001b[0m\u001b[0;34m'низка'\u001b[0m\u001b[0;34m]\u001b[0m\u001b[0;34m)\u001b[0m\u001b[0;34m\u001b[0m\u001b[0m\n\u001b[0m",
      "\u001b[0;32m<ipython-input-206-16f88ad5a3d8>\u001b[0m in \u001b[0;36mcompute_tree\u001b[0;34m(tree, cur_results)\u001b[0m\n\u001b[1;32m     12\u001b[0m             \u001b[0mnew_results\u001b[0m \u001b[0;34m+=\u001b[0m \u001b[0mcompute_tree\u001b[0m\u001b[0;34m(\u001b[0m\u001b[0mchild\u001b[0m\u001b[0;34m,\u001b[0m \u001b[0mcur_results\u001b[0m\u001b[0;34m)\u001b[0m\u001b[0;34m\u001b[0m\u001b[0m\n\u001b[1;32m     13\u001b[0m     \u001b[0;32melif\u001b[0m \u001b[0mtree\u001b[0m\u001b[0;34m.\u001b[0m\u001b[0mchildren\u001b[0m\u001b[0;34m[\u001b[0m\u001b[0;36m0\u001b[0m\u001b[0;34m]\u001b[0m\u001b[0;34m.\u001b[0m\u001b[0mdata\u001b[0m \u001b[0;34m==\u001b[0m \u001b[0;34m'and'\u001b[0m\u001b[0;34m:\u001b[0m\u001b[0;34m\u001b[0m\u001b[0m\n\u001b[0;32m---> 14\u001b[0;31m         \u001b[0mnew_results\u001b[0m \u001b[0;34m=\u001b[0m \u001b[0mcompute_tree\u001b[0m\u001b[0;34m(\u001b[0m\u001b[0mtree\u001b[0m\u001b[0;34m.\u001b[0m\u001b[0mchildren\u001b[0m\u001b[0;34m[\u001b[0m\u001b[0;36m0\u001b[0m\u001b[0;34m]\u001b[0m\u001b[0;34m.\u001b[0m\u001b[0mchildren\u001b[0m\u001b[0;34m[\u001b[0m\u001b[0;36m0\u001b[0m\u001b[0;34m]\u001b[0m\u001b[0;34m,\u001b[0m \u001b[0mcur_results\u001b[0m\u001b[0;34m)\u001b[0m\u001b[0;34m\u001b[0m\u001b[0m\n\u001b[0m\u001b[1;32m     15\u001b[0m         \u001b[0mnew_results\u001b[0m \u001b[0;34m=\u001b[0m \u001b[0mcompute_tree\u001b[0m\u001b[0;34m(\u001b[0m\u001b[0mtree\u001b[0m\u001b[0;34m.\u001b[0m\u001b[0mchildren\u001b[0m\u001b[0;34m[\u001b[0m\u001b[0;36m0\u001b[0m\u001b[0;34m]\u001b[0m\u001b[0;34m.\u001b[0m\u001b[0mchildren\u001b[0m\u001b[0;34m[\u001b[0m\u001b[0;36m1\u001b[0m\u001b[0;34m]\u001b[0m\u001b[0;34m,\u001b[0m \u001b[0mnew_results\u001b[0m\u001b[0;34m)\u001b[0m\u001b[0;34m\u001b[0m\u001b[0m\n\u001b[1;32m     16\u001b[0m \u001b[0;34m\u001b[0m\u001b[0m\n",
      "\u001b[0;32m<ipython-input-206-16f88ad5a3d8>\u001b[0m in \u001b[0;36mcompute_tree\u001b[0;34m(tree, cur_results)\u001b[0m\n\u001b[1;32m     12\u001b[0m             \u001b[0mnew_results\u001b[0m \u001b[0;34m+=\u001b[0m \u001b[0mcompute_tree\u001b[0m\u001b[0;34m(\u001b[0m\u001b[0mchild\u001b[0m\u001b[0;34m,\u001b[0m \u001b[0mcur_results\u001b[0m\u001b[0;34m)\u001b[0m\u001b[0;34m\u001b[0m\u001b[0m\n\u001b[1;32m     13\u001b[0m     \u001b[0;32melif\u001b[0m \u001b[0mtree\u001b[0m\u001b[0;34m.\u001b[0m\u001b[0mchildren\u001b[0m\u001b[0;34m[\u001b[0m\u001b[0;36m0\u001b[0m\u001b[0;34m]\u001b[0m\u001b[0;34m.\u001b[0m\u001b[0mdata\u001b[0m \u001b[0;34m==\u001b[0m \u001b[0;34m'and'\u001b[0m\u001b[0;34m:\u001b[0m\u001b[0;34m\u001b[0m\u001b[0m\n\u001b[0;32m---> 14\u001b[0;31m         \u001b[0mnew_results\u001b[0m \u001b[0;34m=\u001b[0m \u001b[0mcompute_tree\u001b[0m\u001b[0;34m(\u001b[0m\u001b[0mtree\u001b[0m\u001b[0;34m.\u001b[0m\u001b[0mchildren\u001b[0m\u001b[0;34m[\u001b[0m\u001b[0;36m0\u001b[0m\u001b[0;34m]\u001b[0m\u001b[0;34m.\u001b[0m\u001b[0mchildren\u001b[0m\u001b[0;34m[\u001b[0m\u001b[0;36m0\u001b[0m\u001b[0;34m]\u001b[0m\u001b[0;34m,\u001b[0m \u001b[0mcur_results\u001b[0m\u001b[0;34m)\u001b[0m\u001b[0;34m\u001b[0m\u001b[0m\n\u001b[0m\u001b[1;32m     15\u001b[0m         \u001b[0mnew_results\u001b[0m \u001b[0;34m=\u001b[0m \u001b[0mcompute_tree\u001b[0m\u001b[0;34m(\u001b[0m\u001b[0mtree\u001b[0m\u001b[0;34m.\u001b[0m\u001b[0mchildren\u001b[0m\u001b[0;34m[\u001b[0m\u001b[0;36m0\u001b[0m\u001b[0;34m]\u001b[0m\u001b[0;34m.\u001b[0m\u001b[0mchildren\u001b[0m\u001b[0;34m[\u001b[0m\u001b[0;36m1\u001b[0m\u001b[0;34m]\u001b[0m\u001b[0;34m,\u001b[0m \u001b[0mnew_results\u001b[0m\u001b[0;34m)\u001b[0m\u001b[0;34m\u001b[0m\u001b[0m\n\u001b[1;32m     16\u001b[0m \u001b[0;34m\u001b[0m\u001b[0m\n",
      "\u001b[0;32m<ipython-input-206-16f88ad5a3d8>\u001b[0m in \u001b[0;36mcompute_tree\u001b[0;34m(tree, cur_results)\u001b[0m\n\u001b[1;32m     12\u001b[0m             \u001b[0mnew_results\u001b[0m \u001b[0;34m+=\u001b[0m \u001b[0mcompute_tree\u001b[0m\u001b[0;34m(\u001b[0m\u001b[0mchild\u001b[0m\u001b[0;34m,\u001b[0m \u001b[0mcur_results\u001b[0m\u001b[0;34m)\u001b[0m\u001b[0;34m\u001b[0m\u001b[0m\n\u001b[1;32m     13\u001b[0m     \u001b[0;32melif\u001b[0m \u001b[0mtree\u001b[0m\u001b[0;34m.\u001b[0m\u001b[0mchildren\u001b[0m\u001b[0;34m[\u001b[0m\u001b[0;36m0\u001b[0m\u001b[0;34m]\u001b[0m\u001b[0;34m.\u001b[0m\u001b[0mdata\u001b[0m \u001b[0;34m==\u001b[0m \u001b[0;34m'and'\u001b[0m\u001b[0;34m:\u001b[0m\u001b[0;34m\u001b[0m\u001b[0m\n\u001b[0;32m---> 14\u001b[0;31m         \u001b[0mnew_results\u001b[0m \u001b[0;34m=\u001b[0m \u001b[0mcompute_tree\u001b[0m\u001b[0;34m(\u001b[0m\u001b[0mtree\u001b[0m\u001b[0;34m.\u001b[0m\u001b[0mchildren\u001b[0m\u001b[0;34m[\u001b[0m\u001b[0;36m0\u001b[0m\u001b[0;34m]\u001b[0m\u001b[0;34m.\u001b[0m\u001b[0mchildren\u001b[0m\u001b[0;34m[\u001b[0m\u001b[0;36m0\u001b[0m\u001b[0;34m]\u001b[0m\u001b[0;34m,\u001b[0m \u001b[0mcur_results\u001b[0m\u001b[0;34m)\u001b[0m\u001b[0;34m\u001b[0m\u001b[0m\n\u001b[0m\u001b[1;32m     15\u001b[0m         \u001b[0mnew_results\u001b[0m \u001b[0;34m=\u001b[0m \u001b[0mcompute_tree\u001b[0m\u001b[0;34m(\u001b[0m\u001b[0mtree\u001b[0m\u001b[0;34m.\u001b[0m\u001b[0mchildren\u001b[0m\u001b[0;34m[\u001b[0m\u001b[0;36m0\u001b[0m\u001b[0;34m]\u001b[0m\u001b[0;34m.\u001b[0m\u001b[0mchildren\u001b[0m\u001b[0;34m[\u001b[0m\u001b[0;36m1\u001b[0m\u001b[0;34m]\u001b[0m\u001b[0;34m,\u001b[0m \u001b[0mnew_results\u001b[0m\u001b[0;34m)\u001b[0m\u001b[0;34m\u001b[0m\u001b[0m\n\u001b[1;32m     16\u001b[0m \u001b[0;34m\u001b[0m\u001b[0m\n",
      "\u001b[0;32m<ipython-input-206-16f88ad5a3d8>\u001b[0m in \u001b[0;36mcompute_tree\u001b[0;34m(tree, cur_results)\u001b[0m\n\u001b[1;32m     10\u001b[0m         \u001b[0mnew_results\u001b[0m \u001b[0;34m=\u001b[0m \u001b[0;34m[\u001b[0m\u001b[0;34m]\u001b[0m\u001b[0;34m\u001b[0m\u001b[0m\n\u001b[1;32m     11\u001b[0m         \u001b[0;32mfor\u001b[0m \u001b[0mchild\u001b[0m \u001b[0;32min\u001b[0m \u001b[0mtree\u001b[0m\u001b[0;34m.\u001b[0m\u001b[0mchildren\u001b[0m\u001b[0;34m[\u001b[0m\u001b[0;36m0\u001b[0m\u001b[0;34m]\u001b[0m\u001b[0;34m.\u001b[0m\u001b[0mchildren\u001b[0m\u001b[0;34m:\u001b[0m\u001b[0;34m\u001b[0m\u001b[0m\n\u001b[0;32m---> 12\u001b[0;31m             \u001b[0mnew_results\u001b[0m \u001b[0;34m+=\u001b[0m \u001b[0mcompute_tree\u001b[0m\u001b[0;34m(\u001b[0m\u001b[0mchild\u001b[0m\u001b[0;34m,\u001b[0m \u001b[0mcur_results\u001b[0m\u001b[0;34m)\u001b[0m\u001b[0;34m\u001b[0m\u001b[0m\n\u001b[0m\u001b[1;32m     13\u001b[0m     \u001b[0;32melif\u001b[0m \u001b[0mtree\u001b[0m\u001b[0;34m.\u001b[0m\u001b[0mchildren\u001b[0m\u001b[0;34m[\u001b[0m\u001b[0;36m0\u001b[0m\u001b[0;34m]\u001b[0m\u001b[0;34m.\u001b[0m\u001b[0mdata\u001b[0m \u001b[0;34m==\u001b[0m \u001b[0;34m'and'\u001b[0m\u001b[0;34m:\u001b[0m\u001b[0;34m\u001b[0m\u001b[0m\n\u001b[1;32m     14\u001b[0m         \u001b[0mnew_results\u001b[0m \u001b[0;34m=\u001b[0m \u001b[0mcompute_tree\u001b[0m\u001b[0;34m(\u001b[0m\u001b[0mtree\u001b[0m\u001b[0;34m.\u001b[0m\u001b[0mchildren\u001b[0m\u001b[0;34m[\u001b[0m\u001b[0;36m0\u001b[0m\u001b[0;34m]\u001b[0m\u001b[0;34m.\u001b[0m\u001b[0mchildren\u001b[0m\u001b[0;34m[\u001b[0m\u001b[0;36m0\u001b[0m\u001b[0;34m]\u001b[0m\u001b[0;34m,\u001b[0m \u001b[0mcur_results\u001b[0m\u001b[0;34m)\u001b[0m\u001b[0;34m\u001b[0m\u001b[0m\n",
      "\u001b[0;32m<ipython-input-206-16f88ad5a3d8>\u001b[0m in \u001b[0;36mcompute_tree\u001b[0;34m(tree, cur_results)\u001b[0m\n\u001b[1;32m     12\u001b[0m             \u001b[0mnew_results\u001b[0m \u001b[0;34m+=\u001b[0m \u001b[0mcompute_tree\u001b[0m\u001b[0;34m(\u001b[0m\u001b[0mchild\u001b[0m\u001b[0;34m,\u001b[0m \u001b[0mcur_results\u001b[0m\u001b[0;34m)\u001b[0m\u001b[0;34m\u001b[0m\u001b[0m\n\u001b[1;32m     13\u001b[0m     \u001b[0;32melif\u001b[0m \u001b[0mtree\u001b[0m\u001b[0;34m.\u001b[0m\u001b[0mchildren\u001b[0m\u001b[0;34m[\u001b[0m\u001b[0;36m0\u001b[0m\u001b[0;34m]\u001b[0m\u001b[0;34m.\u001b[0m\u001b[0mdata\u001b[0m \u001b[0;34m==\u001b[0m \u001b[0;34m'and'\u001b[0m\u001b[0;34m:\u001b[0m\u001b[0;34m\u001b[0m\u001b[0m\n\u001b[0;32m---> 14\u001b[0;31m         \u001b[0mnew_results\u001b[0m \u001b[0;34m=\u001b[0m \u001b[0mcompute_tree\u001b[0m\u001b[0;34m(\u001b[0m\u001b[0mtree\u001b[0m\u001b[0;34m.\u001b[0m\u001b[0mchildren\u001b[0m\u001b[0;34m[\u001b[0m\u001b[0;36m0\u001b[0m\u001b[0;34m]\u001b[0m\u001b[0;34m.\u001b[0m\u001b[0mchildren\u001b[0m\u001b[0;34m[\u001b[0m\u001b[0;36m0\u001b[0m\u001b[0;34m]\u001b[0m\u001b[0;34m,\u001b[0m \u001b[0mcur_results\u001b[0m\u001b[0;34m)\u001b[0m\u001b[0;34m\u001b[0m\u001b[0m\n\u001b[0m\u001b[1;32m     15\u001b[0m         \u001b[0mnew_results\u001b[0m \u001b[0;34m=\u001b[0m \u001b[0mcompute_tree\u001b[0m\u001b[0;34m(\u001b[0m\u001b[0mtree\u001b[0m\u001b[0;34m.\u001b[0m\u001b[0mchildren\u001b[0m\u001b[0;34m[\u001b[0m\u001b[0;36m0\u001b[0m\u001b[0;34m]\u001b[0m\u001b[0;34m.\u001b[0m\u001b[0mchildren\u001b[0m\u001b[0;34m[\u001b[0m\u001b[0;36m1\u001b[0m\u001b[0;34m]\u001b[0m\u001b[0;34m,\u001b[0m \u001b[0mnew_results\u001b[0m\u001b[0;34m)\u001b[0m\u001b[0;34m\u001b[0m\u001b[0m\n\u001b[1;32m     16\u001b[0m \u001b[0;34m\u001b[0m\u001b[0m\n",
      "\u001b[0;32m<ipython-input-206-16f88ad5a3d8>\u001b[0m in \u001b[0;36mcompute_tree\u001b[0;34m(tree, cur_results)\u001b[0m\n\u001b[1;32m      6\u001b[0m         \u001b[0mnew_results\u001b[0m \u001b[0;34m=\u001b[0m \u001b[0;34m[\u001b[0m\u001b[0;34m]\u001b[0m\u001b[0;34m\u001b[0m\u001b[0m\n\u001b[1;32m      7\u001b[0m         \u001b[0;32mfor\u001b[0m \u001b[0mword\u001b[0m \u001b[0;32min\u001b[0m \u001b[0mcur_results\u001b[0m\u001b[0;34m:\u001b[0m\u001b[0;34m\u001b[0m\u001b[0m\n\u001b[0;32m----> 8\u001b[0;31m             \u001b[0mnew_results\u001b[0m \u001b[0;34m+=\u001b[0m \u001b[0mexec\u001b[0m\u001b[0;34m(\u001b[0m\u001b[0mcommand\u001b[0m\u001b[0;34m)\u001b[0m\u001b[0;34m\u001b[0m\u001b[0m\n\u001b[0m\u001b[1;32m      9\u001b[0m     \u001b[0;32melif\u001b[0m \u001b[0mtree\u001b[0m\u001b[0;34m.\u001b[0m\u001b[0mchildren\u001b[0m\u001b[0;34m[\u001b[0m\u001b[0;36m0\u001b[0m\u001b[0;34m]\u001b[0m\u001b[0;34m.\u001b[0m\u001b[0mdata\u001b[0m \u001b[0;34m==\u001b[0m \u001b[0;34m'or'\u001b[0m\u001b[0;34m:\u001b[0m\u001b[0;34m\u001b[0m\u001b[0m\n\u001b[1;32m     10\u001b[0m         \u001b[0mnew_results\u001b[0m \u001b[0;34m=\u001b[0m \u001b[0;34m[\u001b[0m\u001b[0;34m]\u001b[0m\u001b[0;34m\u001b[0m\u001b[0m\n",
      "\u001b[0;32m<string>\u001b[0m in \u001b[0;36m<module>\u001b[0;34m()\u001b[0m\n",
      "\u001b[0;31mTypeError\u001b[0m: onlysfx() missing 2 required positional arguments: 'pos_b' and 'pos_a'"
     ]
    }
   ],
   "source": [
    "compute_tree(tree, ['низка'])"
   ]
  },
  {
   "cell_type": "code",
   "execution_count": null,
   "metadata": {},
   "outputs": [],
   "source": []
  },
  {
   "cell_type": "code",
   "execution_count": null,
   "metadata": {},
   "outputs": [],
   "source": []
  },
  {
   "cell_type": "code",
   "execution_count": null,
   "metadata": {},
   "outputs": [],
   "source": []
  },
  {
   "cell_type": "code",
   "execution_count": null,
   "metadata": {},
   "outputs": [],
   "source": []
  },
  {
   "cell_type": "code",
   "execution_count": null,
   "metadata": {},
   "outputs": [],
   "source": []
  },
  {
   "cell_type": "code",
   "execution_count": 34,
   "metadata": {},
   "outputs": [],
   "source": [
    "class POS:\n",
    "    def __init__(self, gr: str, pos: str, history=list()):\n",
    "        self.pos = pos\n",
    "        self.graphics = gr\n",
    "        self.history = history\n",
    "\n",
    "\n",
    "class Rule:\n",
    "    def __init__(self, pos_b, pos_a, rules):\n",
    "        \"\"\"\n",
    "        Пример rules = \"[(onlysfx, {'я', 'а', 'ь'}) & (delsfx, {'я', 'а', 'ь'}) | (excsfx, {'я', 'а', 'ь'}) \n",
    "        & (replsfx, {('ей', 'ь')})] & (plt, 'try') & (delvowel, 'opt') & (addsfx, {'иный'})\"\n",
    "        \n",
    "        \"\"\"\n",
    "        self.pos_b = pos_b\n",
    "        self.pos_a = pos_a\n",
    "        self.logical_form, self.full_operations = opers_to_digits(rules)\n",
    "        self.syntax_tree = parser.parse(logical_form)\n",
    "        self.inner_code = \"\""
   ]
  },
  {
   "cell_type": "code",
   "execution_count": 35,
   "metadata": {},
   "outputs": [],
   "source": [
    "paired = {'б', 'п', 'м', 'в', 'ф', 'д', 'т', 'з', 'с', 'н', 'л', 'р'}\n",
    "velar = {'г', 'к', 'х'}\n",
    "sh_hard = {'ш', 'ж'}\n",
    "sh_soft = {'щ', 'ч'}\n",
    "\n",
    "voiced = {'б', 'м', 'в', 'д', 'з', 'н', 'л', 'р', 'г', 'ж'}\n",
    "unvoiced = {'п', 'ф', 'т', 'с', 'к', 'х', 'ш', 'ч', 'щ'}\n",
    "\n",
    "plt_pairs = ({('к', 'ч'), ('г', 'ж'), ('х', 'ш')})\n",
    "\n",
    "vowels = {'а', 'о', 'у', 'ы', 'и', 'э', 'я', 'ё', 'ю', 'е'}\n",
    "\n",
    "sh = sh_hard | sh_soft\n",
    "\n",
    "consonants = paired | velar | sh_hard | sh_soft\n",
    "\n",
    "def delsfx(word, args, mode='do'):\n",
    "    sfx_b_ = args\n",
    "    possible_results = list()\n",
    "\n",
    "    for sfx_b in sfx_b_:\n",
    "        if mode == 'do':\n",
    "            if word[-len(sfx_b):] == sfx_b:\n",
    "                # возможно изменение -> изменяем\n",
    "                w_a = word[:-len(sfx_b)]\n",
    "                possible_word = w_a\n",
    "                new_word = possible_word\n",
    "                print(new_word)\n",
    "                possible_results.append(new_word)\n",
    "\n",
    "        elif mode == 'try':\n",
    "            if word[-len(sfx_b):] == sfx_b:\n",
    "                # возможно изменение -> изменяем\n",
    "                w_a = word[:-len(sfx_b)]\n",
    "                possible_word = w_a\n",
    "                new_word = possible_word\n",
    "                possible_results.append(new_word)\n",
    "                print(new_word)\n",
    "            else:\n",
    "                # невозможно изменение -> не страшно\n",
    "                w_a = word\n",
    "                possible_word = w_a\n",
    "                new_word = possible_word\n",
    "                possible_results.append(new_word)\n",
    "                print(new_word)\n",
    "\n",
    "        elif mode == 'opt':\n",
    "            if word[-len(sfx_b):] == sfx_b:\n",
    "                # возможно изменение -> изменяем или не изменяем\n",
    "                w_a = word[:-len(sfx_b)]\n",
    "                possible_word = w_a\n",
    "                new_word = possible_word\n",
    "                possible_results.append(new_word)\n",
    "                print(new_word)\n",
    "            w_a = word\n",
    "            possible_word = w_a\n",
    "            new_word = possible_word\n",
    "            possible_results.append(new_word)\n",
    "            print(new_word)\n",
    "\n",
    "    return possible_results"
   ]
  },
  {
   "cell_type": "code",
   "execution_count": null,
   "metadata": {},
   "outputs": [],
   "source": []
  },
  {
   "cell_type": "code",
   "execution_count": null,
   "metadata": {},
   "outputs": [],
   "source": []
  }
 ],
 "metadata": {
  "kernelspec": {
   "display_name": "Python 3",
   "language": "python",
   "name": "python3"
  },
  "language_info": {
   "codemirror_mode": {
    "name": "ipython",
    "version": 3
   },
   "file_extension": ".py",
   "mimetype": "text/x-python",
   "name": "python",
   "nbconvert_exporter": "python",
   "pygments_lexer": "ipython3",
   "version": "3.6.5"
  }
 },
 "nbformat": 4,
 "nbformat_minor": 2
}
