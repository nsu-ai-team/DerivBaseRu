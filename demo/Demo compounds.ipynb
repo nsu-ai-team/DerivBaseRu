{
 "cells": [
  {
   "cell_type": "code",
   "execution_count": 1,
   "metadata": {},
   "outputs": [],
   "source": [
    "from itertools import product\n",
    "import warnings"
   ]
  },
  {
   "cell_type": "code",
   "execution_count": 2,
   "metadata": {},
   "outputs": [],
   "source": [
    "import sys\n",
    "import os\n",
    "sys.path.append(\"../\") # go to parent dir\n",
    "from src.Derivation import Derivation\n",
    "derivator = Derivation(use_guesser=True)"
   ]
  },
  {
   "cell_type": "code",
   "execution_count": 3,
   "metadata": {},
   "outputs": [],
   "source": [
    "from tqdm.notebook import tqdm"
   ]
  },
  {
   "cell_type": "code",
   "execution_count": 4,
   "metadata": {},
   "outputs": [],
   "source": [
    "from src.FinateStateMachine import FSM"
   ]
  },
  {
   "cell_type": "code",
   "execution_count": 5,
   "metadata": {},
   "outputs": [],
   "source": [
    "wordlist = dict()\n",
    "derivator.pos_all.append('part')\n",
    "for pos in derivator.pos_all:\n",
    "    wordlist_pos = list()\n",
    "    with open(f'../data/wiktionary/v001.00/{pos}.txt', encoding='utf8') as f:\n",
    "        for l in f:\n",
    "            wordlist_pos.append(l.strip())\n",
    "    wordlist[pos] = wordlist_pos"
   ]
  },
  {
   "cell_type": "code",
   "execution_count": 6,
   "metadata": {},
   "outputs": [],
   "source": [
    "from multiprocessing import Pool, TimeoutError\n",
    "import os"
   ]
  },
  {
   "cell_type": "code",
   "execution_count": 11,
   "metadata": {},
   "outputs": [],
   "source": [
    "warnings.simplefilter(\"ignore\")"
   ]
  },
  {
   "cell_type": "code",
   "execution_count": null,
   "metadata": {},
   "outputs": [],
   "source": []
  },
  {
   "cell_type": "code",
   "execution_count": null,
   "metadata": {},
   "outputs": [],
   "source": []
  },
  {
   "cell_type": "code",
   "execution_count": 12,
   "metadata": {},
   "outputs": [],
   "source": [
    "class Part:\n",
    "    def __init__(self, name, pos_b, pos_a = None, rule_id = None, wordlist = []):\n",
    "        self.name = name\n",
    "        self.pos_b, self.pos_a = pos_b, pos_a or pos_b\n",
    "        self.rule_id = rule_id or name\n",
    "        self.fsm = FSM({self.rule_id})\n",
    "        print('FSM', self.rule_id)\n",
    "        if rule_id:        \n",
    "            with Pool(30) as p:\n",
    "                results = list(tqdm(p.imap(self.get_derived, wordlist), total=len(wordlist)))\n",
    "                print(len(results))\n",
    "                for result_, word in zip(results, wordlist):\n",
    "                    for result in result_:\n",
    "                        self.fsm.add_word(list(result.lower()) + [self.rule_id, (word, self.pos_b)])\n",
    "        else:\n",
    "            for word in tqdm(wordlist):\n",
    "                self.fsm.add_word(list(word.lower()) + [self.rule_id, (word, self.pos_b)])\n",
    "    \n",
    "    def get_derived(self, word):\n",
    "        derived = derivator.derive(word_b=word.lower(), pos_b=self.pos_b, rule_id=self.rule_id, use_rare=True)\n",
    "        if derived:\n",
    "            return derived[self.rule_id]\n",
    "        return []\n",
    "        \n",
    "    def add_word(self, form, lemma=None, pos=None):\n",
    "        self.fsm.add_word(list(form.lower()) + [self.rule_id, (lemma or form, pos or self.pos_b)])\n",
    "    \n",
    "    def analyze_word(self, word):\n",
    "        return self.fsm.analyze_word(word.lower())"
   ]
  },
  {
   "cell_type": "code",
   "execution_count": null,
   "metadata": {},
   "outputs": [],
   "source": []
  },
  {
   "cell_type": "code",
   "execution_count": null,
   "metadata": {},
   "outputs": [],
   "source": []
  },
  {
   "cell_type": "code",
   "execution_count": 13,
   "metadata": {},
   "outputs": [],
   "source": [
    "#prt = Part('rule619*(noun + н1(ый) -> adj)', 'noun', 'adj',  'rule619*(noun + н1(ый) -> adj)', wordlist['noun'])"
   ]
  },
  {
   "cell_type": "code",
   "execution_count": null,
   "metadata": {},
   "outputs": [],
   "source": []
  },
  {
   "cell_type": "code",
   "execution_count": null,
   "metadata": {},
   "outputs": [],
   "source": []
  },
  {
   "cell_type": "code",
   "execution_count": null,
   "metadata": {},
   "outputs": [],
   "source": []
  },
  {
   "cell_type": "raw",
   "metadata": {},
   "source": [
    "class Part:\n",
    "    def __init__(self, name, pos, rule_id = None, wordlist = []):\n",
    "        self.name = name\n",
    "        self.pos = pos\n",
    "        self.rule_id = rule_id or name\n",
    "        self.fsm = FSM({self.rule_id})\n",
    "        print('FSM', self.rule_id)\n",
    "        if rule_id:\n",
    "            for word in tqdm(wordlist):\n",
    "                results = derivator.derive(word_b=word.lower(), pos_b=self.pos, rule_id=self.rule_id, use_rare=True)\n",
    "                if not results:\n",
    "                    continue\n",
    "                for result in results[self.rule_id]:\n",
    "                    self.fsm.add_word(list(result.lower()) + [self.rule_id, (word, self.pos)])\n",
    "        else:\n",
    "            for word in tqdm(wordlist):\n",
    "                self.fsm.add_word(list(word.lower()) + [self.rule_id, (word, self.pos)])\n",
    "    \n",
    "    def get_derived(self, word):\n",
    "        derived = derivator.derive(word_b=word.lower(), pos_b=self.pos, rule_id=self.rule_id, use_rare=True)\n",
    "        if derived:\n",
    "            return derived[self.rule_id]\n",
    "        return []\n",
    "        \n",
    "    def add_word(self, form, lemma=None, pos=None):\n",
    "        self.fsm.add_word(list(form.lower()) + [self.rule_id, (lemma or form, pos or self.pos)])\n",
    "    \n",
    "    def analyze_word(self, word):\n",
    "        return self.fsm.analyze_word(word.lower())"
   ]
  },
  {
   "cell_type": "code",
   "execution_count": null,
   "metadata": {},
   "outputs": [],
   "source": []
  },
  {
   "cell_type": "code",
   "execution_count": 14,
   "metadata": {},
   "outputs": [],
   "source": [
    "mod_rare = dict()\n",
    "head_rare = dict()\n",
    "\n",
    "for pos in derivator.pos_all:\n",
    "    mod_rare[pos] = []\n",
    "    head_rare[pos] = []    \n",
    "    try:\n",
    "        with open(f'../src/rules/compounds_rare_{pos}.csv', encoding='utf8') as f:\n",
    "            for line in f.readlines()[1:]:\n",
    "                lemma, pos_lemma, form, i_arg = line.strip().split(';')    \n",
    "                if i_arg == '0':\n",
    "                    head_rare[pos].append((lemma, pos_lemma, form))\n",
    "                else:\n",
    "                    mod_rare[pos].append((lemma, pos_lemma, form))\n",
    "    except FileNotFoundError:\n",
    "        pass\n",
    "\n",
    "try:\n",
    "    with open(f'../src/rules/compounds_rare_star.csv', encoding='utf8') as f:\n",
    "        for line in f.readlines()[1:]:\n",
    "            lemma, pos_lemma, form, rule_id, i_arg = line.strip().split(';')    \n",
    "            if rule_id not in head_rare:\n",
    "                head_rare[rule_id] = []\n",
    "            if rule_id not in mod_rare:\n",
    "                mod_rare[rule_id] = []\n",
    "            if i_arg == '0':\n",
    "                head_rare[rule_id].append((lemma, pos_lemma, form))\n",
    "            else:\n",
    "                mod_rare[rule_id].append((lemma, pos_lemma, form))\n",
    "except FileNotFoundError:\n",
    "    pass\n"
   ]
  },
  {
   "cell_type": "code",
   "execution_count": null,
   "metadata": {},
   "outputs": [],
   "source": []
  },
  {
   "cell_type": "code",
   "execution_count": null,
   "metadata": {},
   "outputs": [],
   "source": []
  },
  {
   "cell_type": "code",
   "execution_count": null,
   "metadata": {},
   "outputs": [],
   "source": []
  },
  {
   "cell_type": "code",
   "execution_count": null,
   "metadata": {},
   "outputs": [],
   "source": []
  },
  {
   "cell_type": "code",
   "execution_count": 15,
   "metadata": {},
   "outputs": [
    {
     "name": "stdout",
     "output_type": "stream",
     "text": [
      "FSM noun\n"
     ]
    },
    {
     "data": {
      "application/vnd.jupyter.widget-view+json": {
       "model_id": "3fbf4c60556b4e279bde17691fbb3e56",
       "version_major": 2,
       "version_minor": 0
      },
      "text/plain": [
       "HBox(children=(FloatProgress(value=0.0, max=164085.0), HTML(value='')))"
      ]
     },
     "metadata": {},
     "output_type": "display_data"
    },
    {
     "name": "stdout",
     "output_type": "stream",
     "text": [
      "\n",
      "FSM ruleINTERFIX(noun)\n"
     ]
    },
    {
     "data": {
      "application/vnd.jupyter.widget-view+json": {
       "model_id": "118486d933b244b190c48288b48870e2",
       "version_major": 2,
       "version_minor": 0
      },
      "text/plain": [
       "HBox(children=(FloatProgress(value=0.0, max=164085.0), HTML(value='')))"
      ]
     },
     "metadata": {},
     "output_type": "display_data"
    },
    {
     "name": "stdout",
     "output_type": "stream",
     "text": [
      "\n",
      "164085\n",
      "FSM ruleINTERFIX(adj)\n"
     ]
    },
    {
     "data": {
      "application/vnd.jupyter.widget-view+json": {
       "model_id": "86a45fa89e954f56a4172058861047c8",
       "version_major": 2,
       "version_minor": 0
      },
      "text/plain": [
       "HBox(children=(FloatProgress(value=0.0, max=47760.0), HTML(value='')))"
      ]
     },
     "metadata": {},
     "output_type": "display_data"
    },
    {
     "name": "stdout",
     "output_type": "stream",
     "text": [
      "\n",
      "47760\n",
      "FSM ruleINTERFIX(num)\n"
     ]
    },
    {
     "data": {
      "application/vnd.jupyter.widget-view+json": {
       "model_id": "0e6a72cb7ed540e49db6f284ec9f8bf7",
       "version_major": 2,
       "version_minor": 0
      },
      "text/plain": [
       "HBox(children=(FloatProgress(value=0.0, max=39.0), HTML(value='')))"
      ]
     },
     "metadata": {},
     "output_type": "display_data"
    },
    {
     "name": "stdout",
     "output_type": "stream",
     "text": [
      "\n",
      "39\n",
      "FSM rule1028*(noun + GEN -> noun)\n"
     ]
    },
    {
     "data": {
      "application/vnd.jupyter.widget-view+json": {
       "model_id": "eb25b785435947b3a9d59957608c8b59",
       "version_major": 2,
       "version_minor": 0
      },
      "text/plain": [
       "HBox(children=(FloatProgress(value=0.0, max=164085.0), HTML(value='')))"
      ]
     },
     "metadata": {},
     "output_type": "display_data"
    },
    {
     "name": "stdout",
     "output_type": "stream",
     "text": [
      "\n",
      "164085\n",
      "FSM rule552([пол] + noun + GEN -> noun)\n"
     ]
    },
    {
     "data": {
      "application/vnd.jupyter.widget-view+json": {
       "model_id": "3d77e142565f404199f01b70400c1b83",
       "version_major": 2,
       "version_minor": 0
      },
      "text/plain": [
       "HBox(children=(FloatProgress(value=1.0, bar_style='info', max=1.0), HTML(value='')))"
      ]
     },
     "metadata": {},
     "output_type": "display_data"
    },
    {
     "name": "stdout",
     "output_type": "stream",
     "text": [
      "\n",
      "FSM rule211(verb + тель -> noun)\n"
     ]
    },
    {
     "data": {
      "application/vnd.jupyter.widget-view+json": {
       "model_id": "396e948ce5e14954a65837835950544f",
       "version_major": 2,
       "version_minor": 0
      },
      "text/plain": [
       "HBox(children=(FloatProgress(value=0.0, max=45465.0), HTML(value='')))"
      ]
     },
     "metadata": {},
     "output_type": "display_data"
    },
    {
     "name": "stdout",
     "output_type": "stream",
     "text": [
      "\n",
      "45465\n",
      "FSM rule216(verb + ец/нец/енец/омец -> noun)\n"
     ]
    },
    {
     "data": {
      "application/vnd.jupyter.widget-view+json": {
       "model_id": "91f1fbc7872e49a08e7cabdc7d84cf92",
       "version_major": 2,
       "version_minor": 0
      },
      "text/plain": [
       "HBox(children=(FloatProgress(value=0.0, max=45465.0), HTML(value='')))"
      ]
     },
     "metadata": {},
     "output_type": "display_data"
    },
    {
     "name": "stdout",
     "output_type": "stream",
     "text": [
      "\n",
      "45465\n",
      "FSM rule213(verb + щик -> noun)\n"
     ]
    },
    {
     "data": {
      "application/vnd.jupyter.widget-view+json": {
       "model_id": "61d92e38eca34feb9f04031e951c5ac2",
       "version_major": 2,
       "version_minor": 0
      },
      "text/plain": [
       "HBox(children=(FloatProgress(value=0.0, max=45465.0), HTML(value='')))"
      ]
     },
     "metadata": {},
     "output_type": "display_data"
    },
    {
     "name": "stdout",
     "output_type": "stream",
     "text": [
      "\n",
      "45465\n",
      "FSM rule214(verb + льщик -> noun)\n"
     ]
    },
    {
     "data": {
      "application/vnd.jupyter.widget-view+json": {
       "model_id": "a4f3d13856344778986acb9cd0213755",
       "version_major": 2,
       "version_minor": 0
      },
      "text/plain": [
       "HBox(children=(FloatProgress(value=0.0, max=45465.0), HTML(value='')))"
      ]
     },
     "metadata": {},
     "output_type": "display_data"
    },
    {
     "name": "stdout",
     "output_type": "stream",
     "text": [
      "\n",
      "45465\n",
      "FSM rule212(verb + ник/еник/енник/ик -> noun)\n"
     ]
    },
    {
     "data": {
      "application/vnd.jupyter.widget-view+json": {
       "model_id": "42a8a0a758084d1da121855f010fcc7f",
       "version_major": 2,
       "version_minor": 0
      },
      "text/plain": [
       "HBox(children=(FloatProgress(value=0.0, max=45465.0), HTML(value='')))"
      ]
     },
     "metadata": {},
     "output_type": "display_data"
    },
    {
     "name": "stdout",
     "output_type": "stream",
     "text": [
      "\n",
      "45465\n",
      "FSM rule262(verb + к(а)/овк(а)/ёжк(а) -> noun)\n"
     ]
    },
    {
     "data": {
      "application/vnd.jupyter.widget-view+json": {
       "model_id": "ddec971463034a50b654a351751ca0e2",
       "version_major": 2,
       "version_minor": 0
      },
      "text/plain": [
       "HBox(children=(FloatProgress(value=0.0, max=45465.0), HTML(value='')))"
      ]
     },
     "metadata": {},
     "output_type": "display_data"
    },
    {
     "name": "stdout",
     "output_type": "stream",
     "text": [
      "\n",
      "45465\n",
      "FSM rule228(verb + лк(а) -> noun)\n"
     ]
    },
    {
     "data": {
      "application/vnd.jupyter.widget-view+json": {
       "model_id": "c89338481eac4b5393c2e0e0a53d5e2b",
       "version_major": 2,
       "version_minor": 0
      },
      "text/plain": [
       "HBox(children=(FloatProgress(value=0.0, max=45465.0), HTML(value='')))"
      ]
     },
     "metadata": {},
     "output_type": "display_data"
    },
    {
     "name": "stdout",
     "output_type": "stream",
     "text": [
      "\n",
      "45465\n",
      "FSM rule267(verb + н(я)/отн(я)/овн(я) -> noun)\n"
     ]
    },
    {
     "data": {
      "application/vnd.jupyter.widget-view+json": {
       "model_id": "0602610dac3d4bf6bbf9519c944c0dce",
       "version_major": 2,
       "version_minor": 0
      },
      "text/plain": [
       "HBox(children=(FloatProgress(value=0.0, max=45465.0), HTML(value='')))"
      ]
     },
     "metadata": {},
     "output_type": "display_data"
    },
    {
     "name": "stdout",
     "output_type": "stream",
     "text": [
      "\n",
      "45465\n",
      "FSM rule264(verb + ств(о) -> noun)\n"
     ]
    },
    {
     "data": {
      "application/vnd.jupyter.widget-view+json": {
       "model_id": "e39653b905c44e0d911abefdcfcf60ad",
       "version_major": 2,
       "version_minor": 0
      },
      "text/plain": [
       "HBox(children=(FloatProgress(value=0.0, max=45465.0), HTML(value='')))"
      ]
     },
     "metadata": {},
     "output_type": "display_data"
    },
    {
     "name": "stdout",
     "output_type": "stream",
     "text": [
      "\n",
      "45465\n",
      "FSM rule256(verb + ниj(е) -> noun)\n"
     ]
    },
    {
     "data": {
      "application/vnd.jupyter.widget-view+json": {
       "model_id": "c90ef09769364078b6d3a1d37beb54a5",
       "version_major": 2,
       "version_minor": 0
      },
      "text/plain": [
       "HBox(children=(FloatProgress(value=0.0, max=45465.0), HTML(value='')))"
      ]
     },
     "metadata": {},
     "output_type": "display_data"
    },
    {
     "name": "stdout",
     "output_type": "stream",
     "text": [
      "\n",
      "164085\n",
      "FSM rule337(noun + ан-ин/чан-ин -> noun)\n"
     ]
    },
    {
     "data": {
      "application/vnd.jupyter.widget-view+json": {
       "model_id": "3166725f656947b8a7e259b456063e26",
       "version_major": 2,
       "version_minor": 0
      },
      "text/plain": [
       "HBox(children=(FloatProgress(value=0.0, max=164085.0), HTML(value='')))"
      ]
     },
     "metadata": {},
     "output_type": "display_data"
    },
    {
     "name": "stdout",
     "output_type": "stream",
     "text": [
      "\n",
      "164085\n",
      "FSM rule578*(noun + иj(а) -> noun)\n"
     ]
    },
    {
     "data": {
      "application/vnd.jupyter.widget-view+json": {
       "model_id": "7ca4a1c5348a4318903d9be8eb535aca",
       "version_major": 2,
       "version_minor": 0
      },
      "text/plain": [
       "HBox(children=(FloatProgress(value=0.0, max=164085.0), HTML(value='')))"
      ]
     },
     "metadata": {},
     "output_type": "display_data"
    },
    {
     "name": "stdout",
     "output_type": "stream",
     "text": [
      "\n",
      "164085\n",
      "FSM rule446(verb + 0m2 -> noun)\n"
     ]
    },
    {
     "data": {
      "application/vnd.jupyter.widget-view+json": {
       "model_id": "e7fe83b67b06488f9d7e6afde37a482a",
       "version_major": 2,
       "version_minor": 0
      },
      "text/plain": [
       "HBox(children=(FloatProgress(value=0.0, max=45465.0), HTML(value='')))"
      ]
     },
     "metadata": {},
     "output_type": "display_data"
    },
    {
     "name": "stdout",
     "output_type": "stream",
     "text": [
      "\n",
      "45465\n",
      "FSM rule580(noun + 0 -> noun)\n"
     ]
    },
    {
     "data": {
      "application/vnd.jupyter.widget-view+json": {
       "model_id": "139402e267a441d49ad61f4e2e6fafbd",
       "version_major": 2,
       "version_minor": 0
      },
      "text/plain": [
       "HBox(children=(FloatProgress(value=0.0, max=164085.0), HTML(value='')))"
      ]
     },
     "metadata": {},
     "output_type": "display_data"
    },
    {
     "name": "stdout",
     "output_type": "stream",
     "text": [
      "\n",
      "164085\n",
      "FSM rule619*(noun + н1(ый) -> adj)\n"
     ]
    },
    {
     "data": {
      "application/vnd.jupyter.widget-view+json": {
       "model_id": "2b490ebd72d249869df98dbae580dc5d",
       "version_major": 2,
       "version_minor": 0
      },
      "text/plain": [
       "HBox(children=(FloatProgress(value=0.0, max=164085.0), HTML(value='')))"
      ]
     },
     "metadata": {},
     "output_type": "display_data"
    },
    {
     "name": "stdout",
     "output_type": "stream",
     "text": [
      "\n",
      "164085\n",
      "FSM rule623(noun + н(ий) -> adj)\n"
     ]
    },
    {
     "data": {
      "application/vnd.jupyter.widget-view+json": {
       "model_id": "c9b5306142fe49d5a968c47ac47bf0b5",
       "version_major": 2,
       "version_minor": 0
      },
      "text/plain": [
       "HBox(children=(FloatProgress(value=0.0, max=164085.0), HTML(value='')))"
      ]
     },
     "metadata": {},
     "output_type": "display_data"
    },
    {
     "name": "stdout",
     "output_type": "stream",
     "text": [
      "\n",
      "164085\n",
      "FSM rule628(noun + ов(ый) -> adj)\n"
     ]
    },
    {
     "data": {
      "application/vnd.jupyter.widget-view+json": {
       "model_id": "e9af7dcc54064fe58d617e89f31c61fb",
       "version_major": 2,
       "version_minor": 0
      },
      "text/plain": [
       "HBox(children=(FloatProgress(value=0.0, max=164085.0), HTML(value='')))"
      ]
     },
     "metadata": {},
     "output_type": "display_data"
    },
    {
     "name": "stdout",
     "output_type": "stream",
     "text": [
      "\n",
      "164085\n",
      "FSM rule630(noun + ск(ий) -> adj)\n"
     ]
    },
    {
     "data": {
      "application/vnd.jupyter.widget-view+json": {
       "model_id": "e7b8e932d61f400e9cc253d93b5a80aa",
       "version_major": 2,
       "version_minor": 0
      },
      "text/plain": [
       "HBox(children=(FloatProgress(value=0.0, max=164085.0), HTML(value='')))"
      ]
     },
     "metadata": {},
     "output_type": "display_data"
    },
    {
     "name": "stderr",
     "output_type": "stream",
     "text": [
      "IOPub message rate exceeded.\n",
      "The notebook server will temporarily stop sending output\n",
      "to the client in order to avoid crashing it.\n",
      "To change this limit, set the config variable\n",
      "`--NotebookApp.iopub_msg_rate_limit`.\n",
      "\n",
      "Current values:\n",
      "NotebookApp.iopub_msg_rate_limit=1000.0 (msgs/sec)\n",
      "NotebookApp.rate_limit_window=3.0 (secs)\n",
      "\n"
     ]
    },
    {
     "name": "stdout",
     "output_type": "stream",
     "text": [
      "\n",
      "45465\n",
      "FSM rule664*(verb + енн(ый) -> adj)\n"
     ]
    },
    {
     "data": {
      "application/vnd.jupyter.widget-view+json": {
       "model_id": "97adbc8729b2486b89095d6c5a084d2b",
       "version_major": 2,
       "version_minor": 0
      },
      "text/plain": [
       "HBox(children=(FloatProgress(value=0.0, max=45465.0), HTML(value='')))"
      ]
     },
     "metadata": {},
     "output_type": "display_data"
    },
    {
     "name": "stdout",
     "output_type": "stream",
     "text": [
      "\n",
      "45465\n",
      "FSM adj\n"
     ]
    },
    {
     "data": {
      "application/vnd.jupyter.widget-view+json": {
       "model_id": "da06cbbdd622489c8d3eb61307cdc1f6",
       "version_major": 2,
       "version_minor": 0
      },
      "text/plain": [
       "HBox(children=(FloatProgress(value=0.0, max=47760.0), HTML(value='')))"
      ]
     },
     "metadata": {},
     "output_type": "display_data"
    },
    {
     "name": "stdout",
     "output_type": "stream",
     "text": [
      "\n",
      "FSM part\n"
     ]
    },
    {
     "data": {
      "application/vnd.jupyter.widget-view+json": {
       "model_id": "097de19fdd6f44009d45828e0ef1b7b2",
       "version_major": 2,
       "version_minor": 0
      },
      "text/plain": [
       "HBox(children=(FloatProgress(value=0.0, max=63641.0), HTML(value='')))"
      ]
     },
     "metadata": {},
     "output_type": "display_data"
    },
    {
     "name": "stdout",
     "output_type": "stream",
     "text": [
      "\n",
      "FSM rule752(noun + 0(ый) -> adj)\n"
     ]
    },
    {
     "data": {
      "application/vnd.jupyter.widget-view+json": {
       "model_id": "e99d3da5cdb4454eadf856270294ae77",
       "version_major": 2,
       "version_minor": 0
      },
      "text/plain": [
       "HBox(children=(FloatProgress(value=0.0, max=164085.0), HTML(value='')))"
      ]
     },
     "metadata": {},
     "output_type": "display_data"
    },
    {
     "name": "stdout",
     "output_type": "stream",
     "text": [
      "\n",
      "164085\n",
      "FSM rule681(verb + 0(ий) -> adj)\n"
     ]
    },
    {
     "data": {
      "application/vnd.jupyter.widget-view+json": {
       "model_id": "245a664c0e6640d8b31c01a41725dfb5",
       "version_major": 2,
       "version_minor": 0
      },
      "text/plain": [
       "HBox(children=(FloatProgress(value=0.0, max=45465.0), HTML(value='')))"
      ]
     },
     "metadata": {},
     "output_type": "display_data"
    },
    {
     "name": "stdout",
     "output_type": "stream",
     "text": [
      "\n",
      "45465\n",
      "FSM adv\n"
     ]
    },
    {
     "data": {
      "application/vnd.jupyter.widget-view+json": {
       "model_id": "1853afd36c69417890ddb83ac422f143",
       "version_major": 2,
       "version_minor": 0
      },
      "text/plain": [
       "HBox(children=(FloatProgress(value=0.0, max=8051.0), HTML(value='')))"
      ]
     },
     "metadata": {},
     "output_type": "display_data"
    },
    {
     "name": "stdout",
     "output_type": "stream",
     "text": [
      "\n",
      "FSM verb\n"
     ]
    },
    {
     "data": {
      "application/vnd.jupyter.widget-view+json": {
       "model_id": "0561091a91804b6283154265e837160c",
       "version_major": 2,
       "version_minor": 0
      },
      "text/plain": [
       "HBox(children=(FloatProgress(value=0.0, max=45465.0), HTML(value='')))"
      ]
     },
     "metadata": {},
     "output_type": "display_data"
    },
    {
     "name": "stdout",
     "output_type": "stream",
     "text": [
      "\n",
      "FSM rule961([полу/само] + verb -> verb)\n"
     ]
    },
    {
     "data": {
      "application/vnd.jupyter.widget-view+json": {
       "model_id": "39c7bbe8703544608878779945406f7f",
       "version_major": 2,
       "version_minor": 0
      },
      "text/plain": [
       "HBox(children=(FloatProgress(value=1.0, bar_style='info', max=1.0), HTML(value='')))"
      ]
     },
     "metadata": {},
     "output_type": "display_data"
    },
    {
     "name": "stdout",
     "output_type": "stream",
     "text": [
      "\n",
      "FSM rule962(noun + [фицировать] -> verb)\n"
     ]
    },
    {
     "data": {
      "application/vnd.jupyter.widget-view+json": {
       "model_id": "ec6c599c534d49a9a02cfec0d70dc24d",
       "version_major": 2,
       "version_minor": 0
      },
      "text/plain": [
       "HBox(children=(FloatProgress(value=1.0, bar_style='info', max=1.0), HTML(value='')))"
      ]
     },
     "metadata": {},
     "output_type": "display_data"
    },
    {
     "name": "stdout",
     "output_type": "stream",
     "text": [
      "\n",
      "FSM noun\n"
     ]
    },
    {
     "data": {
      "application/vnd.jupyter.widget-view+json": {
       "model_id": "c4531a931cc24706a75b47b4cd1091d9",
       "version_major": 2,
       "version_minor": 0
      },
      "text/plain": [
       "HBox(children=(FloatProgress(value=0.0, max=164085.0), HTML(value='')))"
      ]
     },
     "metadata": {},
     "output_type": "display_data"
    },
    {
     "name": "stdout",
     "output_type": "stream",
     "text": [
      "\n",
      "FSM adv\n"
     ]
    },
    {
     "data": {
      "application/vnd.jupyter.widget-view+json": {
       "model_id": "5b8cdb6d18ec4ec497d715453c571d1f",
       "version_major": 2,
       "version_minor": 0
      },
      "text/plain": [
       "HBox(children=(FloatProgress(value=0.0, max=8051.0), HTML(value='')))"
      ]
     },
     "metadata": {},
     "output_type": "display_data"
    },
    {
     "name": "stdout",
     "output_type": "stream",
     "text": [
      "\n",
      "FSM rule1026([полу] + adv -> adv)\n"
     ]
    },
    {
     "data": {
      "application/vnd.jupyter.widget-view+json": {
       "model_id": "f032254b4c3440778e2b380636c448f5",
       "version_major": 2,
       "version_minor": 0
      },
      "text/plain": [
       "HBox(children=(FloatProgress(value=1.0, bar_style='info', max=1.0), HTML(value='')))"
      ]
     },
     "metadata": {},
     "output_type": "display_data"
    },
    {
     "name": "stdout",
     "output_type": "stream",
     "text": [
      "\n",
      "FSM rule986(verb + ом/ком -> adv)\n"
     ]
    },
    {
     "data": {
      "application/vnd.jupyter.widget-view+json": {
       "model_id": "a7cf107779e64ed4877313d512c14aff",
       "version_major": 2,
       "version_minor": 0
      },
      "text/plain": [
       "HBox(children=(FloatProgress(value=0.0, max=45465.0), HTML(value='')))"
      ]
     },
     "metadata": {},
     "output_type": "display_data"
    },
    {
     "name": "stdout",
     "output_type": "stream",
     "text": [
      "\n",
      "45465\n",
      "FSM rule1027([мимо/само] + verb + ом -> adv)\n"
     ]
    },
    {
     "data": {
      "application/vnd.jupyter.widget-view+json": {
       "model_id": "732418ff44764e328089cd0ded01d36d",
       "version_major": 2,
       "version_minor": 0
      },
      "text/plain": [
       "HBox(children=(FloatProgress(value=1.0, bar_style='info', max=1.0), HTML(value='')))"
      ]
     },
     "metadata": {},
     "output_type": "display_data"
    },
    {
     "name": "stdout",
     "output_type": "stream",
     "text": [
      "\n"
     ]
    }
   ],
   "source": [
    "head_parts = dict()\n",
    "mod_parts = dict()\n",
    "\n",
    "for rule in derivator.rules_compound:\n",
    "    if rule.after_merge_rule_ids:\n",
    "        # not implemented yet\n",
    "        continue\n",
    "    head_rules, mod_rules = rule.simple_rule_ids[0], rule.simple_rule_ids[1]\n",
    "    if head_rules:\n",
    "        # e.g. suffix\n",
    "        head_rule = derivator.rules_dict[head_rules[0]]\n",
    "        if head_rule.name not in head_parts:\n",
    "            head_parts[head_rule.name] = Part(head_rule.name, head_rule.pos_b, head_rule.pos_a, head_rule.name, wordlist[head_rule.pos_b])\n",
    "    else:\n",
    "        # no changes\n",
    "        if rule.pos_b not in head_parts:\n",
    "            head_parts[rule.pos_b] = Part(rule.pos_b, rule.pos_b, rule.pos_b, None, wordlist[rule.pos_b])\n",
    "            for lemma, pos, form in head_rare[rule.pos_b]:\n",
    "                head_parts[rule.pos_b].add_word(form, lemma, pos)\n",
    "    \n",
    "    if mod_rules:\n",
    "        # interfix\n",
    "        mod_rule = derivator.rules_dict[mod_rules[0]]\n",
    "        if mod_rule.name not in mod_parts:\n",
    "            mod_parts[mod_rule.name] = Part(mod_rule.name, mod_rule.pos_b, mod_rule.pos_a, mod_rule.name, wordlist[mod_rule.pos_b])\n",
    "    else:\n",
    "        # no changes or star\n",
    "        if rule.poss_m[0]  == '*':\n",
    "            # star\n",
    "            if rule.name not in mod_parts:\n",
    "                mod_parts[rule.name] = Part(rule.name, '*', '*', None, [])\n",
    "                for lemma, pos, form in mod_rare[rule.name]:\n",
    "                    mod_parts[rule.name].add_word(form, lemma, pos)\n",
    "        else:\n",
    "            # adv, noun, etc.\n",
    "            pos_m = rule.poss_m[0]\n",
    "            if pos_m not in mod_parts:\n",
    "                mod_parts[pos_m] = Part(pos_m, pos_m, pos_m, None, wordlist[pos_m])\n",
    "                for lemma, pos, form in mod_rare[pos_m]:\n",
    "                    mod_parts[pos_m].add_word(form, lemma, pos)"
   ]
  },
  {
   "cell_type": "code",
   "execution_count": null,
   "metadata": {},
   "outputs": [],
   "source": []
  },
  {
   "cell_type": "code",
   "execution_count": null,
   "metadata": {},
   "outputs": [],
   "source": []
  },
  {
   "cell_type": "code",
   "execution_count": null,
   "metadata": {},
   "outputs": [],
   "source": []
  },
  {
   "cell_type": "code",
   "execution_count": null,
   "metadata": {},
   "outputs": [],
   "source": []
  },
  {
   "cell_type": "code",
   "execution_count": 17,
   "metadata": {},
   "outputs": [
    {
     "data": {
      "text/plain": [
       "{'adj': <__main__.Part at 0x2aac7300a3c8>,\n",
       " 'adv': <__main__.Part at 0x2aaeaee0a9e8>,\n",
       " 'noun': <__main__.Part at 0x2aaabfa32e80>,\n",
       " 'part': <__main__.Part at 0x2aaaec7a10f0>,\n",
       " 'rule1028*(noun + GEN -> noun)': <__main__.Part at 0x2aab001de4e0>,\n",
       " 'rule211(verb + тель -> noun)': <__main__.Part at 0x2aab001ec668>,\n",
       " 'rule212(verb + ник/еник/енник/ик -> noun)': <__main__.Part at 0x2aaabf782cf8>,\n",
       " 'rule213(verb + щик -> noun)': <__main__.Part at 0x2aab001ecb70>,\n",
       " 'rule214(verb + льщик -> noun)': <__main__.Part at 0x2aab001ecb00>,\n",
       " 'rule216(verb + ец/нец/енец/омец -> noun)': <__main__.Part at 0x2aaabfa2e080>,\n",
       " 'rule228(verb + лк(а) -> noun)': <__main__.Part at 0x2aab001de518>,\n",
       " 'rule256(verb + ниj(е) -> noun)': <__main__.Part at 0x2aab001de400>,\n",
       " 'rule262(verb + к(а)/овк(а)/ёжк(а) -> noun)': <__main__.Part at 0x2aab1ad4ab38>,\n",
       " 'rule264(verb + ств(о) -> noun)': <__main__.Part at 0x2aaaec7816d8>,\n",
       " 'rule267(verb + н(я)/отн(я)/овн(я) -> noun)': <__main__.Part at 0x2aaaec792ef0>,\n",
       " 'rule329(noun + ник/атник/арник/овник -> noun)': <__main__.Part at 0x2aab001f3748>,\n",
       " 'rule331(noun + щик/чик/овщик -> noun)': <__main__.Part at 0x2aab001de3c8>,\n",
       " 'rule337(noun + ан-ин/чан-ин -> noun)': <__main__.Part at 0x2aab1ad4a198>,\n",
       " 'rule410(noun + к(а) -> noun)': <__main__.Part at 0x2aaad99995f8>,\n",
       " 'rule446(verb + 0m2 -> noun)': <__main__.Part at 0x2aab001ec6a0>,\n",
       " 'rule504*(noun + j(е) -> noun)': <__main__.Part at 0x2aab1944f588>,\n",
       " 'rule578*(noun + иj(а) -> noun)': <__main__.Part at 0x2aaaec7a1a58>,\n",
       " 'rule580(noun + 0 -> noun)': <__main__.Part at 0x2aaaec7a2b70>,\n",
       " 'rule619*(noun + н1(ый) -> adj)': <__main__.Part at 0x2aaaec7a1208>,\n",
       " 'rule623(noun + н(ий) -> adj)': <__main__.Part at 0x2aab40a95860>,\n",
       " 'rule628(noun + ов(ый) -> adj)': <__main__.Part at 0x2aac7300a160>,\n",
       " 'rule630(noun + ск(ий) -> adj)': <__main__.Part at 0x2aab1944f358>,\n",
       " 'rule643*(noun + лив(ый)/ив(ый) -> adj)': <__main__.Part at 0x2aaaec7a2898>,\n",
       " 'rule646(verb + н1(ый) -> adj)': <__main__.Part at 0x2aaaec7a2dd8>,\n",
       " 'rule652(verb + тельн(ый)/ительн(ый) -> adj)': <__main__.Part at 0x2aac7300ad68>,\n",
       " 'rule661*(verb + лив(ый)/чив(ый)/ив(ый) -> adj)': <__main__.Part at 0x2aaaec7a1160>,\n",
       " 'rule664*(verb + енн(ый) -> adj)': <__main__.Part at 0x2aaaec7a1cc0>,\n",
       " 'rule681(verb + 0(ий) -> adj)': <__main__.Part at 0x2aab65e54cc0>,\n",
       " 'rule752(noun + 0(ый) -> adj)': <__main__.Part at 0x2aaaec786550>,\n",
       " 'rule986(verb + ом/ком -> adv)': <__main__.Part at 0x2aab1ad4aeb8>,\n",
       " 'verb': <__main__.Part at 0x2aaaec781438>}"
      ]
     },
     "execution_count": 17,
     "metadata": {},
     "output_type": "execute_result"
    }
   ],
   "source": [
    "head_parts"
   ]
  },
  {
   "cell_type": "code",
   "execution_count": null,
   "metadata": {},
   "outputs": [],
   "source": []
  },
  {
   "cell_type": "code",
   "execution_count": null,
   "metadata": {},
   "outputs": [],
   "source": []
  },
  {
   "cell_type": "code",
   "execution_count": 18,
   "metadata": {},
   "outputs": [
    {
     "data": {
      "application/vnd.jupyter.widget-view+json": {
       "model_id": "0e1b2f48973b45e4a1e77dbde7f46ef7",
       "version_major": 2,
       "version_minor": 0
      },
      "text/plain": [
       "HBox(children=(FloatProgress(value=0.0, max=68.0), HTML(value='')))"
      ]
     },
     "metadata": {},
     "output_type": "display_data"
    },
    {
     "name": "stdout",
     "output_type": "stream",
     "text": [
      "rule550([noun + ITFX] + noun -> noun) [] ['ruleINTERFIX(noun)']\n",
      "<__main__.Part object at 0x2aaabfa32e80> <__main__.Part object at 0x2aab001f39b0> [1, 0]\n",
      "rule550([adj + ITFX] + noun -> noun) [] ['ruleINTERFIX(adj)']\n",
      "<__main__.Part object at 0x2aaabfa32e80> <__main__.Part object at 0x2aab001eca58> [1, 0]\n",
      "rule550([num + ITFX] + noun -> noun) [] ['ruleINTERFIX(num)']\n",
      "<__main__.Part object at 0x2aaabfa32e80> <__main__.Part object at 0x2aaaec781080> [1, 0]\n",
      "rule552([пол] + noun + GEN -> noun) ['rule1028*(noun + GEN -> noun)'] []\n",
      "<__main__.Part object at 0x2aab001de4e0> <__main__.Part object at 0x2aab001f3978> [1, 0]\n",
      "rule558([noun + ITFX] + verb + тель -> noun) ['rule211(verb + тель -> noun)'] ['ruleINTERFIX(noun)']\n",
      "<__main__.Part object at 0x2aab001ec668> <__main__.Part object at 0x2aab001f39b0> [1, 0]\n",
      "rule558([adj + ITFX] + verb + тель -> noun) ['rule211(verb + тель -> noun)'] ['ruleINTERFIX(adj)']\n",
      "<__main__.Part object at 0x2aab001ec668> <__main__.Part object at 0x2aab001eca58> [1, 0]\n",
      "rule559([noun + ITFX] + verb + ец/нец/енец/омец -> noun) ['rule216(verb + ец/нец/енец/омец -> noun)'] ['ruleINTERFIX(noun)']\n",
      "<__main__.Part object at 0x2aaabfa2e080> <__main__.Part object at 0x2aab001f39b0> [1, 0]\n",
      "rule559([adj + ITFX] + verb + ец/нец/енец/омец -> noun) ['rule216(verb + ец/нец/енец/омец -> noun)'] ['ruleINTERFIX(adj)']\n",
      "<__main__.Part object at 0x2aaabfa2e080> <__main__.Part object at 0x2aab001eca58> [1, 0]\n",
      "rule559([num + ITFX] + verb + ец/нец/енец/омец -> noun) ['rule216(verb + ец/нец/енец/омец -> noun)'] ['ruleINTERFIX(num)']\n",
      "<__main__.Part object at 0x2aaabfa2e080> <__main__.Part object at 0x2aaaec781080> [1, 0]\n",
      "rule560([noun + ITFX] + verb + щик -> noun) ['rule213(verb + щик -> noun)'] ['ruleINTERFIX(noun)']\n",
      "<__main__.Part object at 0x2aab001ecb70> <__main__.Part object at 0x2aab001f39b0> [1, 0]\n",
      "rule561([noun + ITFX] + verb + льщик -> noun) ['rule214(verb + льщик -> noun)'] ['ruleINTERFIX(noun)']\n",
      "<__main__.Part object at 0x2aab001ecb00> <__main__.Part object at 0x2aab001f39b0> [1, 0]\n",
      "rule562([noun + ITFX] + verb + ник/еник/енник/ик -> noun) ['rule212(verb + ник/еник/енник/ик -> noun)'] ['ruleINTERFIX(noun)']\n",
      "<__main__.Part object at 0x2aaabf782cf8> <__main__.Part object at 0x2aab001f39b0> [1, 0]\n",
      "rule563([noun + ITFX] + verb + к(а)/овк(а)/ёжк(а) -> noun) ['rule262(verb + к(а)/овк(а)/ёжк(а) -> noun)'] ['ruleINTERFIX(noun)']\n",
      "<__main__.Part object at 0x2aab1ad4ab38> <__main__.Part object at 0x2aab001f39b0> [1, 0]\n",
      "rule564([noun + ITFX] + verb + лк(а) -> noun) ['rule228(verb + лк(а) -> noun)'] ['ruleINTERFIX(noun)']\n",
      "<__main__.Part object at 0x2aab001de518> <__main__.Part object at 0x2aab001f39b0> [1, 0]\n",
      "rule565([noun + ITFX] + verb + н(я)/отн(я)/овн(я) -> noun) ['rule267(verb + н(я)/отн(я)/овн(я) -> noun)'] ['ruleINTERFIX(noun)']\n",
      "<__main__.Part object at 0x2aaaec792ef0> <__main__.Part object at 0x2aab001f39b0> [1, 0]\n",
      "rule566([noun + ITFX] + verb + ств(о) -> noun) ['rule264(verb + ств(о) -> noun)'] ['ruleINTERFIX(noun)']\n",
      "<__main__.Part object at 0x2aaaec7816d8> <__main__.Part object at 0x2aab001f39b0> [1, 0]\n",
      "rule567([noun + ITFX] + verb + ниj(е) -> noun) ['rule256(verb + ниj(е) -> noun)'] ['ruleINTERFIX(noun)']\n",
      "<__main__.Part object at 0x2aab001de400> <__main__.Part object at 0x2aab001f39b0> [1, 0]\n",
      "rule570([noun + ITFX] + noun + ник/атник/арник/овник -> noun) ['rule329(noun + ник/атник/арник/овник -> noun)'] ['ruleINTERFIX(noun)']\n",
      "<__main__.Part object at 0x2aab001f3748> <__main__.Part object at 0x2aab001f39b0> [1, 0]\n",
      "rule570([adj + ITFX] + noun + ник/атник/арник/овник -> noun) ['rule329(noun + ник/атник/арник/овник -> noun)'] ['ruleINTERFIX(adj)']\n",
      "<__main__.Part object at 0x2aab001f3748> <__main__.Part object at 0x2aab001eca58> [1, 0]\n",
      "rule570([num + ITFX] + noun + ник/атник/арник/овник -> noun) ['rule329(noun + ник/атник/арник/овник -> noun)'] ['ruleINTERFIX(num)']\n",
      "<__main__.Part object at 0x2aab001f3748> <__main__.Part object at 0x2aaaec781080> [1, 0]\n",
      "rule571([adj + ITFX] + noun + щик/чик/овщик -> noun) ['rule331(noun + щик/чик/овщик -> noun)'] ['ruleINTERFIX(adj)']\n",
      "<__main__.Part object at 0x2aab001de3c8> <__main__.Part object at 0x2aab001eca58> [1, 0]\n",
      "rule572([noun + ITFX] + noun + к(а) -> noun) ['rule410(noun + к(а) -> noun)'] ['ruleINTERFIX(noun)']\n",
      "<__main__.Part object at 0x2aaad99995f8> <__main__.Part object at 0x2aab001f39b0> [1, 0]\n",
      "rule572([adj + ITFX] + noun + к(а) -> noun) ['rule410(noun + к(а) -> noun)'] ['ruleINTERFIX(adj)']\n",
      "<__main__.Part object at 0x2aaad99995f8> <__main__.Part object at 0x2aab001eca58> [1, 0]\n",
      "rule572([num + ITFX] + noun + к(а) -> noun) ['rule410(noun + к(а) -> noun)'] ['ruleINTERFIX(num)']\n",
      "<__main__.Part object at 0x2aaad99995f8> <__main__.Part object at 0x2aaaec781080> [1, 0]\n",
      "rule573([noun + ITFX] + noun + j(е) -> noun) ['rule504*(noun + j(е) -> noun)'] ['ruleINTERFIX(noun)']\n",
      "<__main__.Part object at 0x2aab1944f588> <__main__.Part object at 0x2aab001f39b0> [1, 0]\n",
      "rule573([adj + ITFX] + noun + j(е) -> noun) ['rule504*(noun + j(е) -> noun)'] ['ruleINTERFIX(adj)']\n",
      "<__main__.Part object at 0x2aab1944f588> <__main__.Part object at 0x2aab001eca58> [1, 0]\n",
      "rule573([num + ITFX] + noun + j(е) -> noun) ['rule504*(noun + j(е) -> noun)'] ['ruleINTERFIX(num)']\n",
      "<__main__.Part object at 0x2aab1944f588> <__main__.Part object at 0x2aaaec781080> [1, 0]\n",
      "rule576([adj + ITFX] + noun + ан-ин/чан-ин -> noun) ['rule337(noun + ан-ин/чан-ин -> noun)'] ['ruleINTERFIX(adj)']\n",
      "<__main__.Part object at 0x2aab1ad4a198> <__main__.Part object at 0x2aab001eca58> [1, 0]\n",
      "rule578([noun + ITFX] + noun + иj(а) -> noun) ['rule578*(noun + иj(а) -> noun)'] ['ruleINTERFIX(noun)']\n",
      "<__main__.Part object at 0x2aaaec7a1a58> <__main__.Part object at 0x2aab001f39b0> [1, 0]\n",
      "rule579([noun + ITFX] + verb + 0m2 -> noun) ['rule446(verb + 0m2 -> noun)'] ['ruleINTERFIX(noun)']\n",
      "<__main__.Part object at 0x2aab001ec6a0> <__main__.Part object at 0x2aab001f39b0> [1, 0]\n",
      "rule579([adj + ITFX] + verb + 0m2 -> noun) ['rule446(verb + 0m2 -> noun)'] ['ruleINTERFIX(adj)']\n",
      "<__main__.Part object at 0x2aab001ec6a0> <__main__.Part object at 0x2aab001eca58> [1, 0]\n",
      "rule580([noun + ITFX] + noun + 0 -> noun) ['rule580(noun + 0 -> noun)'] ['ruleINTERFIX(noun)']\n",
      "<__main__.Part object at 0x2aaaec7a2b70> <__main__.Part object at 0x2aab001f39b0> [1, 0]\n",
      "rule580([adj + ITFX] + noun + 0 -> noun) ['rule580(noun + 0 -> noun)'] ['ruleINTERFIX(adj)']\n",
      "<__main__.Part object at 0x2aaaec7a2b70> <__main__.Part object at 0x2aab001eca58> [1, 0]\n",
      "rule580([num + ITFX] + noun + 0 -> noun) ['rule580(noun + 0 -> noun)'] ['ruleINTERFIX(num)']\n",
      "<__main__.Part object at 0x2aaaec7a2b70> <__main__.Part object at 0x2aaaec781080> [1, 0]\n",
      "rule761([noun + ITFX] + noun + н1(ый) -> adj) ['rule619*(noun + н1(ый) -> adj)'] ['ruleINTERFIX(noun)']\n",
      "<__main__.Part object at 0x2aaaec7a1208> <__main__.Part object at 0x2aab001f39b0> [1, 0]\n",
      "rule761([adj + ITFX] + noun + н1(ый) -> adj) ['rule619*(noun + н1(ый) -> adj)'] ['ruleINTERFIX(adj)']\n",
      "<__main__.Part object at 0x2aaaec7a1208> <__main__.Part object at 0x2aab001eca58> [1, 0]\n",
      "rule761([num + ITFX] + noun + н1(ый) -> adj) ['rule619*(noun + н1(ый) -> adj)'] ['ruleINTERFIX(num)']\n",
      "<__main__.Part object at 0x2aaaec7a1208> <__main__.Part object at 0x2aaaec781080> [1, 0]\n",
      "rule762([adj + ITFX] + noun + н(ий) -> adj) ['rule623(noun + н(ий) -> adj)'] ['ruleINTERFIX(adj)']\n",
      "<__main__.Part object at 0x2aab40a95860> <__main__.Part object at 0x2aab001eca58> [1, 0]\n",
      "rule762([num + ITFX] + noun + н(ий) -> adj) ['rule623(noun + н(ий) -> adj)'] ['ruleINTERFIX(num)']\n",
      "<__main__.Part object at 0x2aab40a95860> <__main__.Part object at 0x2aaaec781080> [1, 0]\n",
      "rule763([adj + ITFX] + noun + ов(ый) -> adj) ['rule628(noun + ов(ый) -> adj)'] ['ruleINTERFIX(adj)']\n",
      "<__main__.Part object at 0x2aac7300a160> <__main__.Part object at 0x2aab001eca58> [1, 0]\n",
      "rule763([num + ITFX] + noun + ов(ый) -> adj) ['rule628(noun + ов(ый) -> adj)'] ['ruleINTERFIX(num)']\n",
      "<__main__.Part object at 0x2aac7300a160> <__main__.Part object at 0x2aaaec781080> [1, 0]\n",
      "rule764([adj + ITFX] + noun + ск(ий) -> adj) ['rule630(noun + ск(ий) -> adj)'] ['ruleINTERFIX(adj)']\n",
      "<__main__.Part object at 0x2aab1944f358> <__main__.Part object at 0x2aab001eca58> [1, 0]\n",
      "rule764([adj + ITFX] + noun + лив(ый)/ив(ый) -> adj) ['rule643*(noun + лив(ый)/ив(ый) -> adj)'] ['ruleINTERFIX(adj)']\n",
      "<__main__.Part object at 0x2aaaec7a2898> <__main__.Part object at 0x2aab001eca58> [1, 0]\n",
      "rule764([num + ITFX] + noun + лив(ый)/ив(ый) -> adj) ['rule643*(noun + лив(ый)/ив(ый) -> adj)'] ['ruleINTERFIX(num)']\n",
      "<__main__.Part object at 0x2aaaec7a2898> <__main__.Part object at 0x2aaaec781080> [1, 0]\n",
      "rule767([adj + ITFX] + verb + н1(ый) -> adj) ['rule646(verb + н1(ый) -> adj)'] ['ruleINTERFIX(adj)']\n",
      "<__main__.Part object at 0x2aaaec7a2dd8> <__main__.Part object at 0x2aab001eca58> [1, 0]\n",
      "rule767([noun + ITFX] + verb + н1(ый) -> adj) ['rule646(verb + н1(ый) -> adj)'] ['ruleINTERFIX(noun)']\n",
      "<__main__.Part object at 0x2aaaec7a2dd8> <__main__.Part object at 0x2aab001f39b0> [1, 0]\n",
      "rule768([noun + ITFX] + verb + тельн(ый)/ительн(ый) -> adj) ['rule652(verb + тельн(ый)/ительн(ый) -> adj)'] ['ruleINTERFIX(noun)']\n",
      "<__main__.Part object at 0x2aac7300ad68> <__main__.Part object at 0x2aab001f39b0> [1, 0]\n",
      "rule769([noun + ITFX] + verb + лив(ый)/чив(ый)/ив(ый) -> adj) ['rule661*(verb + лив(ый)/чив(ый)/ив(ый) -> adj)'] ['ruleINTERFIX(noun)']\n",
      "<__main__.Part object at 0x2aaaec7a1160> <__main__.Part object at 0x2aab001f39b0> [1, 0]\n",
      "rule769([noun + ITFX] + verb + енн(ый) -> adj) ['rule664*(verb + енн(ый) -> adj)'] ['ruleINTERFIX(noun)']\n",
      "<__main__.Part object at 0x2aaaec7a1cc0> <__main__.Part object at 0x2aab001f39b0> [1, 0]\n",
      "rule754([adj + ITFX] + adj -> adj) [] ['ruleINTERFIX(adj)']\n",
      "<__main__.Part object at 0x2aac7300a3c8> <__main__.Part object at 0x2aab001eca58> [1, 0]\n",
      "rule754([noun + ITFX] + adj -> adj) [] ['ruleINTERFIX(noun)']\n",
      "<__main__.Part object at 0x2aac7300a3c8> <__main__.Part object at 0x2aab001f39b0> [1, 0]\n",
      "rule754([num + ITFX] + adj -> adj) [] ['ruleINTERFIX(num)']\n",
      "<__main__.Part object at 0x2aac7300a3c8> <__main__.Part object at 0x2aaaec781080> [1, 0]\n",
      "rule754([adj + ITFX] + part -> adj) [] ['ruleINTERFIX(adj)']\n",
      "<__main__.Part object at 0x2aaaec7a10f0> <__main__.Part object at 0x2aab001eca58> [1, 0]\n",
      "rule754([noun + ITFX] + part -> adj) [] ['ruleINTERFIX(noun)']\n",
      "<__main__.Part object at 0x2aaaec7a10f0> <__main__.Part object at 0x2aab001f39b0> [1, 0]\n",
      "rule772([noun + ITFX] + noun + 0(ый) -> adj) ['rule752(noun + 0(ый) -> adj)'] ['ruleINTERFIX(noun)']\n",
      "<__main__.Part object at 0x2aaaec786550> <__main__.Part object at 0x2aab001f39b0> [1, 0]\n",
      "rule772([adj + ITFX] + noun + 0(ый) -> adj) ['rule752(noun + 0(ый) -> adj)'] ['ruleINTERFIX(adj)']\n",
      "<__main__.Part object at 0x2aaaec786550> <__main__.Part object at 0x2aab001eca58> [1, 0]\n",
      "rule772([num + ITFX] + noun + 0(ый) -> adj) ['rule752(noun + 0(ый) -> adj)'] ['ruleINTERFIX(num)']\n",
      "<__main__.Part object at 0x2aaaec786550> <__main__.Part object at 0x2aaaec781080> [1, 0]\n",
      "rule773([adv] + verb + 0(ий) -> adj) ['rule681(verb + 0(ий) -> adj)'] []\n",
      "<__main__.Part object at 0x2aab65e54cc0> <__main__.Part object at 0x2aab001ec6d8> [1, 0]\n",
      "rule776([adv] + adj -> adj) [] []\n",
      "<__main__.Part object at 0x2aac7300a3c8> <__main__.Part object at 0x2aab001ec6d8> [1, 0]\n",
      "rule776([adv] + part -> adj) [] []\n",
      "<__main__.Part object at 0x2aaaec7a10f0> <__main__.Part object at 0x2aab001ec6d8> [1, 0]\n",
      "rule961([полу/само] + verb -> verb) [] []\n",
      "<__main__.Part object at 0x2aaaec781438> <__main__.Part object at 0x2aaaf18a7630> [1, 0]\n",
      "rule961([noun + ITFX] + verb -> verb) [] ['ruleINTERFIX(noun)']\n",
      "<__main__.Part object at 0x2aaaec781438> <__main__.Part object at 0x2aab001f39b0> [1, 0]\n",
      "rule962(noun + [фицировать] -> verb) [] []\n",
      "<__main__.Part object at 0x2aaabfa32e80> <__main__.Part object at 0x2aab6ab25a90> [0, 1]\n",
      "rule963([noun] + verb -> verb) [] []\n",
      "<__main__.Part object at 0x2aaaec781438> <__main__.Part object at 0x2aaeaee0acc0> [1, 0]\n",
      "rule1026([полу] + adv -> adv) [] []\n",
      "<__main__.Part object at 0x2aaeaee0a9e8> <__main__.Part object at 0x2aaaec781e48> [1, 0]\n",
      "rule1027([мимо/само] + verb + ом -> adv) ['rule986(verb + ом/ком -> adv)'] []\n",
      "<__main__.Part object at 0x2aab1ad4aeb8> <__main__.Part object at 0x2aaaec786588> [1, 0]\n",
      "\n"
     ]
    }
   ],
   "source": [
    "analyzed = []\n",
    "\n",
    "for rule in tqdm(derivator.rules_compound):\n",
    "    if rule.after_merge_rule_ids:\n",
    "        # not implemented yet\n",
    "        continue\n",
    "    head_rules, mod_rules = rule.simple_rule_ids[0], rule.simple_rule_ids[1]\n",
    "    print(rule.name, head_rules, mod_rules)\n",
    "    if head_rules:\n",
    "        # e.g. suffix\n",
    "        head_rule = derivator.rules_dict[head_rules[0]]\n",
    "        head_part = head_parts[head_rule.name]\n",
    "    else:\n",
    "        # no changes\n",
    "        head_part = head_parts[rule.pos_b]\n",
    "    if mod_rules:\n",
    "        # interfix\n",
    "        mod_rule = derivator.rules_dict[mod_rules[0]]\n",
    "        mod_part = mod_parts[mod_rule.name]\n",
    "    else:\n",
    "        # no changes or star\n",
    "        if rule.poss_m[0]  == '*':\n",
    "            # star\n",
    "            mod_part = mod_parts[rule.name]\n",
    "        else:\n",
    "            # adv, noun, etc.\n",
    "            pos_m = rule.poss_m[0]\n",
    "            mod_part = mod_parts[pos_m]\n",
    "    \n",
    "    print(head_part, mod_part, rule.order)\n",
    "    if rule.order == [0, 1]:\n",
    "        ca = CompoundAnalyzer(rule.name, rule.pos_a, head_part, mod_part)\n",
    "    else:\n",
    "        # [1, 0]\n",
    "        ca = CompoundAnalyzer(rule.name, rule.pos_a, mod_part, head_part)\n",
    "    for word in wordlist[rule.pos_a]:\n",
    "        analyzed.extend(ca.analyze(word, rule.pos_a))"
   ]
  },
  {
   "cell_type": "code",
   "execution_count": null,
   "metadata": {},
   "outputs": [],
   "source": []
  },
  {
   "cell_type": "code",
   "execution_count": 19,
   "metadata": {},
   "outputs": [
    {
     "data": {
      "text/plain": [
       "[{}]"
      ]
     },
     "execution_count": 19,
     "metadata": {},
     "output_type": "execute_result"
    }
   ],
   "source": [
    "head_parts['rule619*(noun + н1(ый) -> adj)'].fsm.states"
   ]
  },
  {
   "cell_type": "code",
   "execution_count": null,
   "metadata": {},
   "outputs": [],
   "source": []
  },
  {
   "cell_type": "code",
   "execution_count": null,
   "metadata": {},
   "outputs": [],
   "source": []
  },
  {
   "cell_type": "code",
   "execution_count": 20,
   "metadata": {},
   "outputs": [],
   "source": [
    "with open('compo_new_cor.txt', 'w') as f:\n",
    "    for l in analyzed:\n",
    "        w, p, nm, (ff, pf), iff, (s, ps), ss = l\n",
    "        f.writelines('\\t'.join([w, p, nm, ff, pf, iff, s, ps, ss]) + '\\n')"
   ]
  },
  {
   "cell_type": "code",
   "execution_count": 19,
   "metadata": {},
   "outputs": [
    {
     "data": {
      "text/plain": [
       "799445"
      ]
     },
     "execution_count": 19,
     "metadata": {},
     "output_type": "execute_result"
    }
   ],
   "source": [
    "len(analyzed)"
   ]
  },
  {
   "cell_type": "code",
   "execution_count": 21,
   "metadata": {},
   "outputs": [],
   "source": [
    "fixed = []\n",
    "for l in analyzed:\n",
    "    w, p, nm, (ff, pf), iff, (s, ps), ss = l\n",
    "    if w.find('-') != -1:\n",
    "        fixed.append(l)\n",
    "    else:\n",
    "        if len(ff) >= 3 and len(s) >= 3:\n",
    "            fixed.append(l)"
   ]
  },
  {
   "cell_type": "code",
   "execution_count": 24,
   "metadata": {},
   "outputs": [],
   "source": [
    "with open('compo_new_cor3+.txt', 'w') as f:\n",
    "    for l in fixed:\n",
    "        w, p, nm, (ff, pf), iff, (s, ps), ss = l\n",
    "        f.writelines('\\t'.join([w, p, nm, ff, pf, iff, s, ps, ss]) + '\\n')"
   ]
  },
  {
   "cell_type": "code",
   "execution_count": 22,
   "metadata": {},
   "outputs": [
    {
     "data": {
      "text/plain": [
       "482894"
      ]
     },
     "execution_count": 22,
     "metadata": {},
     "output_type": "execute_result"
    }
   ],
   "source": [
    "len(fixed)"
   ]
  },
  {
   "cell_type": "code",
   "execution_count": 23,
   "metadata": {},
   "outputs": [
    {
     "data": {
      "text/plain": [
       "[('абажуродержатель',\n",
       "  'noun',\n",
       "  'rule550([noun + ITFX] + noun -> noun)',\n",
       "  ('абажур', 'noun'),\n",
       "  'ruleINTERFIX(noun)',\n",
       "  ('держатель', 'noun'),\n",
       "  'noun'),\n",
       " ('Волоста',\n",
       "  'noun',\n",
       "  'rule550([noun + ITFX] + noun -> noun)',\n",
       "  ('Вия', 'noun'),\n",
       "  'ruleINTERFIX(noun)',\n",
       "  ('Лоста', 'noun'),\n",
       "  'noun'),\n",
       " ('кинодебют',\n",
       "  'noun',\n",
       "  'rule550([noun + ITFX] + noun -> noun)',\n",
       "  ('Кин', 'noun'),\n",
       "  'ruleINTERFIX(noun)',\n",
       "  ('дебют', 'noun'),\n",
       "  'noun'),\n",
       " ('микрофильмотека',\n",
       "  'noun',\n",
       "  'rule550([noun + ITFX] + noun -> noun)',\n",
       "  ('микрофильм', 'noun'),\n",
       "  'ruleINTERFIX(noun)',\n",
       "  ('Тека', 'noun'),\n",
       "  'noun'),\n",
       " ('прерафаэлит',\n",
       "  'noun',\n",
       "  'rule550([noun + ITFX] + noun -> noun)',\n",
       "  ('Пери', 'noun'),\n",
       "  'ruleINTERFIX(noun)',\n",
       "  ('рафаэлит', 'noun'),\n",
       "  'noun'),\n",
       " ('сенотаска',\n",
       "  'noun',\n",
       "  'rule550([noun + ITFX] + noun -> noun)',\n",
       "  ('сена', 'noun'),\n",
       "  'ruleINTERFIX(noun)',\n",
       "  ('таска', 'noun'),\n",
       "  'noun'),\n",
       " ('цезаролит',\n",
       "  'noun',\n",
       "  'rule550([noun + ITFX] + noun -> noun)',\n",
       "  ('цезарь', 'noun'),\n",
       "  'ruleINTERFIX(noun)',\n",
       "  ('лит', 'noun'),\n",
       "  'noun'),\n",
       " ('бумаготворец',\n",
       "  'noun',\n",
       "  'rule559([noun + ITFX] + verb + ец/нец/енец/омец -> noun)',\n",
       "  ('бумага', 'noun'),\n",
       "  'ruleINTERFIX(noun)',\n",
       "  ('твориться', 'verb'),\n",
       "  'rule216(verb + ец/нец/енец/омец -> noun)'),\n",
       " ('сенокосник',\n",
       "  'noun',\n",
       "  'rule562([noun + ITFX] + verb + ник/еник/енник/ик -> noun)',\n",
       "  ('Сено', 'noun'),\n",
       "  'ruleINTERFIX(noun)',\n",
       "  ('косить', 'verb'),\n",
       "  'rule212(verb + ник/еник/енник/ик -> noun)'),\n",
       " ('коробочка',\n",
       "  'noun',\n",
       "  'rule563([noun + ITFX] + verb + к(а)/овк(а)/ёжк(а) -> noun)',\n",
       "  ('короб', 'noun'),\n",
       "  'ruleINTERFIX(noun)',\n",
       "  ('кивать', 'verb'),\n",
       "  'rule262(verb + к(а)/овк(а)/ёжк(а) -> noun)'),\n",
       " ('проколка',\n",
       "  'noun',\n",
       "  'rule563([noun + ITFX] + verb + к(а)/овк(а)/ёжк(а) -> noun)',\n",
       "  ('Пера', 'noun'),\n",
       "  'ruleINTERFIX(noun)',\n",
       "  ('колоться', 'verb'),\n",
       "  'rule262(verb + к(а)/овк(а)/ёжк(а) -> noun)'),\n",
       " ('травокосилка',\n",
       "  'noun',\n",
       "  'rule564([noun + ITFX] + verb + лк(а) -> noun)',\n",
       "  ('трава', 'noun'),\n",
       "  'ruleINTERFIX(noun)',\n",
       "  ('косить', 'verb'),\n",
       "  'rule228(verb + лк(а) -> noun)'),\n",
       " ('наложенье',\n",
       "  'noun',\n",
       "  'rule567([noun + ITFX] + verb + ниj(е) -> noun)',\n",
       "  ('Наля', 'noun'),\n",
       "  'ruleINTERFIX(noun)',\n",
       "  ('жениться', 'verb'),\n",
       "  'rule256(verb + ниj(е) -> noun)'),\n",
       " ('славословие',\n",
       "  'noun',\n",
       "  'rule567([noun + ITFX] + verb + ниj(е) -> noun)',\n",
       "  ('слава', 'noun'),\n",
       "  'ruleINTERFIX(noun)',\n",
       "  ('словиться', 'verb'),\n",
       "  'rule256(verb + ниj(е) -> noun)'),\n",
       " ('сеноподъёмник',\n",
       "  'noun',\n",
       "  'rule570([noun + ITFX] + noun + ник/атник/арник/овник -> noun)',\n",
       "  ('сено', 'noun'),\n",
       "  'ruleINTERFIX(noun)',\n",
       "  ('подъёмка', 'noun'),\n",
       "  'rule329(noun + ник/атник/арник/овник -> noun)'),\n",
       " ('кровочка',\n",
       "  'noun',\n",
       "  'rule572([noun + ITFX] + noun + к(а) -> noun)',\n",
       "  ('кора', 'noun'),\n",
       "  'ruleINTERFIX(noun)',\n",
       "  ('Вок', 'noun'),\n",
       "  'rule410(noun + к(а) -> noun)'),\n",
       " ('Сосенка',\n",
       "  'noun',\n",
       "  'rule572([noun + ITFX] + noun + к(а) -> noun)',\n",
       "  ('Сия', 'noun'),\n",
       "  'ruleINTERFIX(noun)',\n",
       "  ('сен', 'noun'),\n",
       "  'rule410(noun + к(а) -> noun)'),\n",
       " ('комкание',\n",
       "  'noun',\n",
       "  'rule573([noun + ITFX] + noun + j(е) -> noun)',\n",
       "  ('кий', 'noun'),\n",
       "  'ruleINTERFIX(noun)',\n",
       "  ('Мкан', 'noun'),\n",
       "  'rule504*(noun + j(е) -> noun)'),\n",
       " ('разноречие',\n",
       "  'noun',\n",
       "  'rule573([noun + ITFX] + noun + j(е) -> noun)',\n",
       "  ('Разна', 'noun'),\n",
       "  'ruleINTERFIX(noun)',\n",
       "  ('Реч', 'noun'),\n",
       "  'rule504*(noun + j(е) -> noun)'),\n",
       " ('биоскопия',\n",
       "  'noun',\n",
       "  'rule578([noun + ITFX] + noun + иj(а) -> noun)',\n",
       "  ('Биа', 'noun'),\n",
       "  'ruleINTERFIX(noun)',\n",
       "  ('скоп', 'noun'),\n",
       "  'rule578*(noun + иj(а) -> noun)'),\n",
       " ('гамовер',\n",
       "  'noun',\n",
       "  'rule579([noun + ITFX] + verb + 0m2 -> noun)',\n",
       "  ('гам', 'noun'),\n",
       "  'ruleINTERFIX(noun)',\n",
       "  ('верить', 'verb'),\n",
       "  'rule446(verb + 0m2 -> noun)'),\n",
       " ('ксенолит',\n",
       "  'noun',\n",
       "  'rule579([noun + ITFX] + verb + 0m2 -> noun)',\n",
       "  ('ксения', 'noun'),\n",
       "  'ruleINTERFIX(noun)',\n",
       "  ('литовать', 'verb'),\n",
       "  'rule446(verb + 0m2 -> noun)'),\n",
       " ('провост',\n",
       "  'noun',\n",
       "  'rule579([noun + ITFX] + verb + 0m2 -> noun)',\n",
       "  ('Пре', 'noun'),\n",
       "  'ruleINTERFIX(noun)',\n",
       "  ('вощить', 'verb'),\n",
       "  'rule446(verb + 0m2 -> noun)'),\n",
       " ('уклономер',\n",
       "  'noun',\n",
       "  'rule579([noun + ITFX] + verb + 0m2 -> noun)',\n",
       "  ('укол', 'noun'),\n",
       "  'ruleINTERFIX(noun)',\n",
       "  ('номеровать', 'verb'),\n",
       "  'rule446(verb + 0m2 -> noun)'),\n",
       " ('белотал',\n",
       "  'noun',\n",
       "  'rule580([noun + ITFX] + noun + 0 -> noun)',\n",
       "  ('Бель', 'noun'),\n",
       "  'ruleINTERFIX(noun)',\n",
       "  ('тал', 'noun'),\n",
       "  'rule580(noun + 0 -> noun)'),\n",
       " ('животное-откормочник',\n",
       "  'noun',\n",
       "  'rule580([noun + ITFX] + noun + 0 -> noun)',\n",
       "  ('животное', 'noun'),\n",
       "  'ruleINTERFIX(noun)',\n",
       "  ('откормочник', 'noun'),\n",
       "  'rule580(noun + 0 -> noun)'),\n",
       " ('ликопин',\n",
       "  'noun',\n",
       "  'rule580([noun + ITFX] + noun + 0 -> noun)',\n",
       "  ('Лика', 'noun'),\n",
       "  'ruleINTERFIX(noun)',\n",
       "  ('Пина', 'noun'),\n",
       "  'rule580(noun + 0 -> noun)'),\n",
       " ('потолок',\n",
       "  'noun',\n",
       "  'rule580([noun + ITFX] + noun + 0 -> noun)',\n",
       "  ('Пото', 'noun'),\n",
       "  'ruleINTERFIX(noun)',\n",
       "  ('лок', 'noun'),\n",
       "  'rule580(noun + 0 -> noun)'),\n",
       " ('столик',\n",
       "  'noun',\n",
       "  'rule580([noun + ITFX] + noun + 0 -> noun)',\n",
       "  ('Сота', 'noun'),\n",
       "  'ruleINTERFIX(noun)',\n",
       "  ('лик', 'noun'),\n",
       "  'rule580(noun + 0 -> noun)'),\n",
       " ('скороподъёмник',\n",
       "  'noun',\n",
       "  'rule580([adj + ITFX] + noun + 0 -> noun)',\n",
       "  ('скорый', 'adj'),\n",
       "  'ruleINTERFIX(adj)',\n",
       "  ('подъёмник', 'noun'),\n",
       "  'rule580(noun + 0 -> noun)'),\n",
       " ('гиротропный',\n",
       "  'adj',\n",
       "  'rule761([noun + ITFX] + noun + н1(ый) -> adj)',\n",
       "  ('гиря', 'noun'),\n",
       "  'ruleINTERFIX(noun)',\n",
       "  ('тропка', 'noun'),\n",
       "  'rule619*(noun + н1(ый) -> adj)'),\n",
       " ('коробочный',\n",
       "  'adj',\n",
       "  'rule761([noun + ITFX] + noun + н1(ый) -> adj)',\n",
       "  ('кора', 'noun'),\n",
       "  'ruleINTERFIX(noun)',\n",
       "  ('бочка', 'noun'),\n",
       "  'rule619*(noun + н1(ый) -> adj)'),\n",
       " ('новоприборный',\n",
       "  'adj',\n",
       "  'rule761([noun + ITFX] + noun + н1(ый) -> adj)',\n",
       "  ('Новь', 'noun'),\n",
       "  'ruleINTERFIX(noun)',\n",
       "  ('приборка', 'noun'),\n",
       "  'rule619*(noun + н1(ый) -> adj)'),\n",
       " ('прогонный',\n",
       "  'adj',\n",
       "  'rule761([noun + ITFX] + noun + н1(ый) -> adj)',\n",
       "  ('Пери', 'noun'),\n",
       "  'ruleINTERFIX(noun)',\n",
       "  ('гонка', 'noun'),\n",
       "  'rule619*(noun + н1(ый) -> adj)'),\n",
       " ('солнцезащитный',\n",
       "  'adj',\n",
       "  'rule761([noun + ITFX] + noun + н1(ый) -> adj)',\n",
       "  ('солнце', 'noun'),\n",
       "  'ruleINTERFIX(noun)',\n",
       "  ('защита', 'noun'),\n",
       "  'rule619*(noun + н1(ый) -> adj)'),\n",
       " ('государственно-общественный',\n",
       "  'adj',\n",
       "  'rule761([adj + ITFX] + noun + н1(ый) -> adj)',\n",
       "  ('государственный', 'adj'),\n",
       "  'ruleINTERFIX(adj)',\n",
       "  ('общество', 'noun'),\n",
       "  'rule619*(noun + н1(ый) -> adj)'),\n",
       " ('авиационно-диспетчерский',\n",
       "  'adj',\n",
       "  'rule764([adj + ITFX] + noun + ск(ий) -> adj)',\n",
       "  ('авиационный', 'adj'),\n",
       "  'ruleINTERFIX(adj)',\n",
       "  ('диспетчер', 'noun'),\n",
       "  'rule630(noun + ск(ий) -> adj)'),\n",
       " ('вискозный',\n",
       "  'adj',\n",
       "  'rule767([noun + ITFX] + verb + н1(ый) -> adj)',\n",
       "  ('висок', 'noun'),\n",
       "  'ruleINTERFIX(noun)',\n",
       "  ('зывать', 'verb'),\n",
       "  'rule646(verb + н1(ый) -> adj)'),\n",
       " ('малозаметный',\n",
       "  'adj',\n",
       "  'rule767([noun + ITFX] + verb + н1(ый) -> adj)',\n",
       "  ('Мали', 'noun'),\n",
       "  'ruleINTERFIX(noun)',\n",
       "  ('замечать', 'verb'),\n",
       "  'rule646(verb + н1(ый) -> adj)'),\n",
       " ('променный',\n",
       "  'adj',\n",
       "  'rule767([noun + ITFX] + verb + н1(ый) -> adj)',\n",
       "  ('Пери', 'noun'),\n",
       "  'ruleINTERFIX(noun)',\n",
       "  ('меняться', 'verb'),\n",
       "  'rule646(verb + н1(ый) -> adj)'),\n",
       " ('газонаполнительный',\n",
       "  'adj',\n",
       "  'rule768([noun + ITFX] + verb + тельн(ый)/ительн(ый) -> adj)',\n",
       "  ('Газа', 'noun'),\n",
       "  'ruleINTERFIX(noun)',\n",
       "  ('наполниться', 'verb'),\n",
       "  'rule652(verb + тельн(ый)/ительн(ый) -> adj)'),\n",
       " ('белочешский',\n",
       "  'adj',\n",
       "  'rule754([noun + ITFX] + adj -> adj)',\n",
       "  ('бел', 'noun'),\n",
       "  'ruleINTERFIX(noun)',\n",
       "  ('чешский', 'adj'),\n",
       "  'adj'),\n",
       " ('пиролитический',\n",
       "  'adj',\n",
       "  'rule754([noun + ITFX] + adj -> adj)',\n",
       "  ('Пир', 'noun'),\n",
       "  'ruleINTERFIX(noun)',\n",
       "  ('литический', 'adj'),\n",
       "  'adj'),\n",
       " ('слабоохраняемый',\n",
       "  'adj',\n",
       "  'rule754([adj + ITFX] + part -> adj)',\n",
       "  ('слабый', 'adj'),\n",
       "  'ruleINTERFIX(adj)',\n",
       "  ('охраняемый', 'part'),\n",
       "  'part'),\n",
       " ('смоленый',\n",
       "  'adj',\n",
       "  'rule772([noun + ITFX] + noun + 0(ый) -> adj)',\n",
       "  ('сема', 'noun'),\n",
       "  'ruleINTERFIX(noun)',\n",
       "  ('лень', 'noun'),\n",
       "  'rule752(noun + 0(ый) -> adj)'),\n",
       " ('догрестись',\n",
       "  'verb',\n",
       "  'rule961([noun + ITFX] + verb -> verb)',\n",
       "  ('Дий', 'noun'),\n",
       "  'ruleINTERFIX(noun)',\n",
       "  ('грестись', 'verb'),\n",
       "  'verb'),\n",
       " ('преподавать',\n",
       "  'verb',\n",
       "  'rule961([noun + ITFX] + verb -> verb)',\n",
       "  ('Пери', 'noun'),\n",
       "  'ruleINTERFIX(noun)',\n",
       "  ('подавать', 'verb'),\n",
       "  'verb'),\n",
       " ('пропылиться',\n",
       "  'verb',\n",
       "  'rule961([noun + ITFX] + verb -> verb)',\n",
       "  ('пря', 'noun'),\n",
       "  'ruleINTERFIX(noun)',\n",
       "  ('пылиться', 'verb'),\n",
       "  'verb'),\n",
       " ('поджигать',\n",
       "  'verb',\n",
       "  'rule963([noun] + verb -> verb)',\n",
       "  ('под', 'noun'),\n",
       "  'noun',\n",
       "  ('жигать', 'verb'),\n",
       "  'verb')]"
      ]
     },
     "execution_count": 23,
     "metadata": {},
     "output_type": "execute_result"
    }
   ],
   "source": [
    "fixed[::10000]"
   ]
  },
  {
   "cell_type": "code",
   "execution_count": null,
   "metadata": {},
   "outputs": [],
   "source": []
  },
  {
   "cell_type": "code",
   "execution_count": 181,
   "metadata": {},
   "outputs": [],
   "source": [
    "rules_used = set()\n",
    "for l in analyzed:\n",
    "    w, p, nm, (ff, pf), iff, (s, ps), ss = l\n",
    "    rules_used.add(nm)"
   ]
  },
  {
   "cell_type": "code",
   "execution_count": 182,
   "metadata": {},
   "outputs": [
    {
     "data": {
      "text/plain": [
       "{'rule1026([полу] + adv -> adv)',\n",
       " 'rule550([adj + ITFX] + noun -> noun)',\n",
       " 'rule550([noun + ITFX] + noun -> noun)',\n",
       " 'rule550([num + ITFX] + noun -> noun)',\n",
       " 'rule552([пол] + noun + GEN -> noun)',\n",
       " 'rule570([adj + ITFX] + noun + ник/атник/арник/овник -> noun)',\n",
       " 'rule570([noun + ITFX] + noun + ник/атник/арник/овник -> noun)',\n",
       " 'rule570([num + ITFX] + noun + ник/атник/арник/овник -> noun)',\n",
       " 'rule571([adj + ITFX] + noun + щик/чик/овщик -> noun)',\n",
       " 'rule572([adj + ITFX] + noun + к(а) -> noun)',\n",
       " 'rule572([noun + ITFX] + noun + к(а) -> noun)',\n",
       " 'rule572([num + ITFX] + noun + к(а) -> noun)',\n",
       " 'rule573([adj + ITFX] + noun + j(е) -> noun)',\n",
       " 'rule573([noun + ITFX] + noun + j(е) -> noun)',\n",
       " 'rule573([num + ITFX] + noun + j(е) -> noun)',\n",
       " 'rule576([adj + ITFX] + noun + ан-ин/чан-ин -> noun)',\n",
       " 'rule578([noun + ITFX] + noun + иj(а) -> noun)',\n",
       " 'rule580([adj + ITFX] + noun + 0 -> noun)',\n",
       " 'rule580([noun + ITFX] + noun + 0 -> noun)',\n",
       " 'rule580([num + ITFX] + noun + 0 -> noun)',\n",
       " 'rule754([adj + ITFX] + adj -> adj)',\n",
       " 'rule754([adj + ITFX] + part -> adj)',\n",
       " 'rule754([noun + ITFX] + adj -> adj)',\n",
       " 'rule754([noun + ITFX] + part -> adj)',\n",
       " 'rule754([num + ITFX] + adj -> adj)',\n",
       " 'rule776([adv] + adj -> adj)',\n",
       " 'rule776([adv] + part -> adj)',\n",
       " 'rule961([noun + ITFX] + verb -> verb)',\n",
       " 'rule961([полу/само] + verb -> verb)',\n",
       " 'rule962(noun + [фицировать] -> verb)',\n",
       " 'rule963([noun] + verb -> verb)'}"
      ]
     },
     "execution_count": 182,
     "metadata": {},
     "output_type": "execute_result"
    }
   ],
   "source": [
    "rules_used"
   ]
  },
  {
   "cell_type": "code",
   "execution_count": null,
   "metadata": {},
   "outputs": [],
   "source": []
  },
  {
   "cell_type": "code",
   "execution_count": null,
   "metadata": {},
   "outputs": [],
   "source": []
  },
  {
   "cell_type": "code",
   "execution_count": null,
   "metadata": {},
   "outputs": [],
   "source": []
  },
  {
   "cell_type": "code",
   "execution_count": 16,
   "metadata": {},
   "outputs": [],
   "source": [
    "class CompoundAnalyzer:\n",
    "    def __init__(self, name, pos, left, right):\n",
    "        self.name = name\n",
    "        self.pos = pos\n",
    "        self.left = left\n",
    "        self.right = right\n",
    "    \n",
    "    def analyze(self, word, pos):\n",
    "        if pos != self.pos:\n",
    "            return []\n",
    "        left_res = self.left.analyze_word(word)\n",
    "        final_res = []\n",
    "        for st, left, left_rule in left_res:\n",
    "            if st == len(word):\n",
    "                continue\n",
    "            if word[st] == '-':\n",
    "                st += 1\n",
    "            right_res = self.right.analyze_word(word[st:])\n",
    "            for fi, right, right_rule in right_res:\n",
    "                if st + fi == len(word):\n",
    "                    final_res.append((word, self.pos, self.name, left, left_rule, right, right_rule))\n",
    "        return final_res"
   ]
  },
  {
   "cell_type": "code",
   "execution_count": 95,
   "metadata": {},
   "outputs": [
    {
     "ename": "NameError",
     "evalue": "name 'num_left' is not defined",
     "output_type": "error",
     "traceback": [
      "\u001b[0;31m---------------------------------------------------------------------------\u001b[0m",
      "\u001b[0;31mNameError\u001b[0m                                 Traceback (most recent call last)",
      "\u001b[0;32m<ipython-input-95-7a020ffe3635>\u001b[0m in \u001b[0;36m<module>\u001b[0;34m()\u001b[0m\n\u001b[0;32m----> 1\u001b[0;31m \u001b[0mca\u001b[0m \u001b[0;34m=\u001b[0m \u001b[0mCompoundAnalyzer\u001b[0m\u001b[0;34m(\u001b[0m\u001b[0mderivator\u001b[0m\u001b[0;34m.\u001b[0m\u001b[0mrules_compound\u001b[0m\u001b[0;34m[\u001b[0m\u001b[0;36m52\u001b[0m\u001b[0;34m]\u001b[0m\u001b[0;34m.\u001b[0m\u001b[0mname\u001b[0m\u001b[0;34m,\u001b[0m \u001b[0mderivator\u001b[0m\u001b[0;34m.\u001b[0m\u001b[0mrules_compound\u001b[0m\u001b[0;34m[\u001b[0m\u001b[0;36m52\u001b[0m\u001b[0;34m]\u001b[0m\u001b[0;34m.\u001b[0m\u001b[0mpos_a\u001b[0m\u001b[0;34m,\u001b[0m \u001b[0mnum_left\u001b[0m\u001b[0;34m,\u001b[0m \u001b[0madj_right\u001b[0m\u001b[0;34m)\u001b[0m\u001b[0;34m\u001b[0m\u001b[0m\n\u001b[0m",
      "\u001b[0;31mNameError\u001b[0m: name 'num_left' is not defined"
     ]
    }
   ],
   "source": [
    "ca = CompoundAnalyzer(derivator.rules_compound[52].name, derivator.rules_compound[52].pos_a, num_left, adj_right)"
   ]
  },
  {
   "cell_type": "code",
   "execution_count": 96,
   "metadata": {},
   "outputs": [
    {
     "ename": "NameError",
     "evalue": "name 'ca' is not defined",
     "output_type": "error",
     "traceback": [
      "\u001b[0;31m---------------------------------------------------------------------------\u001b[0m",
      "\u001b[0;31mNameError\u001b[0m                                 Traceback (most recent call last)",
      "\u001b[0;32m<ipython-input-96-4ca6dad8fcbd>\u001b[0m in \u001b[0;36m<module>\u001b[0;34m()\u001b[0m\n\u001b[0;32m----> 1\u001b[0;31m \u001b[0mca\u001b[0m\u001b[0;34m.\u001b[0m\u001b[0manalyze\u001b[0m\u001b[0;34m(\u001b[0m\u001b[0;34m'двухметровый'\u001b[0m\u001b[0;34m,\u001b[0m \u001b[0;34m'adj'\u001b[0m\u001b[0;34m)\u001b[0m\u001b[0;34m\u001b[0m\u001b[0m\n\u001b[0m",
      "\u001b[0;31mNameError\u001b[0m: name 'ca' is not defined"
     ]
    }
   ],
   "source": [
    "ca.analyze('двухметровый', 'adj')"
   ]
  },
  {
   "cell_type": "code",
   "execution_count": 123,
   "metadata": {},
   "outputs": [],
   "source": [
    "from tqdm import tqdm_notebook as tqdm"
   ]
  },
  {
   "cell_type": "code",
   "execution_count": 124,
   "metadata": {},
   "outputs": [
    {
     "data": {
      "application/vnd.jupyter.widget-view+json": {
       "model_id": "b660a33797584313b1f4caf8bf34e3e7",
       "version_major": 2,
       "version_minor": 0
      },
      "text/plain": [
       "HBox(children=(IntProgress(value=0, max=47760), HTML(value='')))"
      ]
     },
     "metadata": {},
     "output_type": "display_data"
    },
    {
     "name": "stdout",
     "output_type": "stream",
     "text": [
      "\n"
     ]
    }
   ],
   "source": [
    "analyzed = []\n",
    "for word in tqdm(adj_wordlist):\n",
    "    analyzed.extend(ca.analyze(word, 'adj'))"
   ]
  },
  {
   "cell_type": "code",
   "execution_count": 125,
   "metadata": {},
   "outputs": [
    {
     "data": {
      "text/plain": [
       "1865"
      ]
     },
     "execution_count": 125,
     "metadata": {},
     "output_type": "execute_result"
    }
   ],
   "source": [
    "len(analyzed)"
   ]
  },
  {
   "cell_type": "code",
   "execution_count": null,
   "metadata": {},
   "outputs": [],
   "source": []
  },
  {
   "cell_type": "code",
   "execution_count": 5,
   "metadata": {},
   "outputs": [],
   "source": [
    "def get_words(rule, word_b, pos_b, words_m, poss_m, pos_a, **kwargs):    \n",
    "    tags = [derivator.tag_guesser.guess(word=word_m, pos=pos_m) or [{}]\n",
    "            for (word_m, pos_m) in zip([word_b] + words_m, [pos_b] + poss_m)]\n",
    "    results = set()\n",
    "    for tag_comb in product(*tags):\n",
    "        results |= rule.apply_with_tags(word_b=word_b, pos_b=pos_b, pos_a=pos_a, words_m=words_m, poss_m=poss_m, tags_dict=tag_comb, **kwargs)\n",
    "    return results"
   ]
  },
  {
   "cell_type": "code",
   "execution_count": 6,
   "metadata": {},
   "outputs": [
    {
     "data": {
      "text/plain": [
       "{'первопроходец'}"
      ]
     },
     "execution_count": 6,
     "metadata": {},
     "output_type": "execute_result"
    }
   ],
   "source": [
    "get_words(rule, 'проходить', 'verb', ['первый'], ['adj'], 'noun', use_rare=True)"
   ]
  },
  {
   "cell_type": "code",
   "execution_count": null,
   "metadata": {},
   "outputs": [],
   "source": []
  },
  {
   "cell_type": "code",
   "execution_count": null,
   "metadata": {},
   "outputs": [],
   "source": []
  }
 ],
 "metadata": {
  "kernelspec": {
   "display_name": "Python 3",
   "language": "python",
   "name": "python3"
  },
  "language_info": {
   "codemirror_mode": {
    "name": "ipython",
    "version": 3
   },
   "file_extension": ".py",
   "mimetype": "text/x-python",
   "name": "python",
   "nbconvert_exporter": "python",
   "pygments_lexer": "ipython3",
   "version": "3.6.3"
  }
 },
 "nbformat": 4,
 "nbformat_minor": 4
}
