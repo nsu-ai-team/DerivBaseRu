{
 "cells": [
  {
   "cell_type": "code",
   "execution_count": 1,
   "metadata": {},
   "outputs": [],
   "source": [
    "from itertools import product"
   ]
  },
  {
   "cell_type": "code",
   "execution_count": 15,
   "metadata": {},
   "outputs": [
    {
     "name": "stdout",
     "output_type": "stream",
     "text": [
      "Error: rule772([verb + ITFX] + noun + 0(ый) -> adj)\n"
     ]
    }
   ],
   "source": [
    "import sys\n",
    "import os\n",
    "sys.path.append(\"../\") # go to parent dir\n",
    "from src.Derivation import Derivation\n",
    "derivator = Derivation(use_guesser=True)"
   ]
  },
  {
   "cell_type": "code",
   "execution_count": null,
   "metadata": {},
   "outputs": [],
   "source": []
  },
  {
   "cell_type": "code",
   "execution_count": 16,
   "metadata": {},
   "outputs": [
    {
     "name": "stdout",
     "output_type": "stream",
     "text": [
      "0 ruleTODO([noun + ITFX] + verb + 0m2 -> noun)\t(-)\n",
      "1 ruleTODO([noun + ITFX] + verb + 0m2 -> noun)\t(-)\n",
      "2 rule550([noun + ITFX] + noun -> noun)\t(-)\n",
      "3 rule550([adj + ITFX] + noun -> noun)\t(-)\n",
      "4 rule550([num + ITFX] + noun -> noun)\t(-)\n",
      "5 rule552([пол] + noun + GEN -> noun)\t(-)\n",
      "6 rule558([noun + ITFX] + verb + тель -> noun)\t(-)\n",
      "7 rule558([adj + ITFX] + verb + тель -> noun)\t(-)\n",
      "8 rule559([noun + ITFX] + verb + ец/нец/енец/омец -> noun)\t(-)\n",
      "9 rule559([adj + ITFX] + verb + ец/нец/енец/омец -> noun)\t(-)\n",
      "10 rule559([num + ITFX] + verb + ец/нец/енец/омец -> noun)\t(-)\n",
      "11 rule560([noun + ITFX] + verb + щик -> noun)\t(-)\n",
      "12 rule561([noun + ITFX] + verb + льщик -> noun)\t(-)\n",
      "13 rule562([noun + ITFX] + verb + ник/еник/енник/ик -> noun)\t(-)\n",
      "14 rule761([noun + ITFX] + noun + н1(ый) -> adj)\t(-)\n",
      "15 rule761([adj + ITFX] + noun + н1(ый) -> adj)\t(-)\n",
      "16 rule761([num + ITFX] + noun + н1(ый) -> adj)\t(-)\n",
      "17 rule762([adj + ITFX] + noun + н(ий) -> adj)\t(-)\n",
      "18 rule762([num + ITFX] + noun + н(ий) -> adj)\t(-)\n",
      "19 rule763([adj + ITFX] + noun + ов(ый) -> adj)\t(-)\n",
      "20 rule763([num + ITFX] + noun + ов(ый) -> adj)\t(-)\n",
      "21 rule764([adj + ITFX] + noun + ск(ий) -> adj)\t(-)\n",
      "22 rule764([adj + ITFX] + noun + лив(ый)/ив(ый) -> adj)\t(-)\n",
      "23 rule764([num + ITFX] + noun + лив(ый)/ив(ый) -> adj)\t(-)\n",
      "24 rule767([adj + ITFX] + verb + н1(ый) -> adj)\t(-)\n",
      "25 rule767([noun + ITFX] + verb + н1(ый) -> adj)\t(-)\n",
      "26 rule768([noun + ITFX] + verb + тельн(ый)/ительн(ый) -> adj)\t(-)\n",
      "27 rule769([noun + ITFX] + verb + тельн(ый)/ительн(ый) -> adj)\t(-)\n",
      "28 rule769([noun + ITFX] + verb + енн(ый) -> adj)\t(-)\n",
      "29 rule754([adj + ITFX] + adj -> adj)\t(-)\n",
      "30 rule754([noun + ITFX] + adj -> adj)\t(-)\n",
      "31 rule754([num + ITFX] + adj -> adj)\t(-)\n",
      "32 rule754([adj + ITFX] + part -> adj)\t(-)\n",
      "33 rule754([noun + ITFX] + part -> adj)\t(-)\n",
      "34 rule772([noun + ITFX] + noun + 0(ый) -> adj)\t(-)\n",
      "35 rule772([adj + ITFX] + noun + 0(ый) -> adj)\t(-)\n",
      "36 rule772([num + ITFX] + noun + 0(ый) -> adj)\t(-)\n",
      "37 rule772([verb + ITFX] + noun + 0(ый) -> adj)\t(-)\n",
      "38 rule773([adv] + verb + 0(ий) -> adj)\t(-)\n",
      "39 rule776([adv] + adj -> adj)\t(-)\n",
      "40 rule776([adv] + part -> adj)\t(-)\n",
      "41 rule961([полу/само] + verb -> verb)\t(-)\n",
      "42 rule961([noun + ITFX] + verb -> verb)\t(-)\n",
      "43 rule962(noun + [фицировать] -> verb)\t(-)\n",
      "44 rule963([noun] + verb -> verb)\t(-)\n",
      "45 rule1026([полу] + adv -> adv)\t(-)\n",
      "46 rule1027([мимо/само] + verb + ом -> adv)\t(-)\n",
      "47 rule1028(в + [пол] + noun + GEN -> adv)\t(-)\n",
      "48 rule1029(в + [пол/три] + adj + а -> adv)\t(-)\n"
     ]
    }
   ],
   "source": [
    "for i, rule in enumerate(derivator.rules_compound):\n",
    "    print(i, rule)"
   ]
  },
  {
   "cell_type": "code",
   "execution_count": 17,
   "metadata": {},
   "outputs": [
    {
     "name": "stdout",
     "output_type": "stream",
     "text": [
      "rule559([noun + ITFX] + verb + ец/нец/енец/омец -> noun)\t(-)\n"
     ]
    }
   ],
   "source": [
    "rule = derivator.rules_compound[8]\n",
    "print(rule)"
   ]
  },
  {
   "cell_type": "code",
   "execution_count": null,
   "metadata": {},
   "outputs": [],
   "source": []
  },
  {
   "cell_type": "code",
   "execution_count": 18,
   "metadata": {},
   "outputs": [],
   "source": [
    "def get_words(rule, word_b, pos_b, words_m, poss_m, pos_a, **kwargs):    \n",
    "    tags = [derivator.tag_guesser.guess(word=word_m, pos=pos_m) or [{}]\n",
    "            for (word_m, pos_m) in zip([word_b] + words_m, [pos_b] + poss_m)]\n",
    "    results = set()\n",
    "    for tag_comb in product(*tags):\n",
    "        results |= rule.apply_with_tags(word_b=word_b, pos_b=pos_b, pos_a=pos_a, words_m=words_m, poss_m=poss_m, tags_dict=tag_comb, **kwargs)\n",
    "    return results"
   ]
  },
  {
   "cell_type": "code",
   "execution_count": 22,
   "metadata": {},
   "outputs": [
    {
     "data": {
      "text/plain": [
       "{'побдолюбец', 'победолюбец'}"
      ]
     },
     "execution_count": 22,
     "metadata": {},
     "output_type": "execute_result"
    }
   ],
   "source": [
    "get_words(rule, 'любить', 'verb', ['победа'], ['noun'], 'noun', use_rare=True)"
   ]
  },
  {
   "cell_type": "code",
   "execution_count": null,
   "metadata": {},
   "outputs": [],
   "source": []
  },
  {
   "cell_type": "code",
   "execution_count": null,
   "metadata": {},
   "outputs": [],
   "source": []
  }
 ],
 "metadata": {
  "kernelspec": {
   "display_name": "Python 3",
   "language": "python",
   "name": "python3"
  },
  "language_info": {
   "codemirror_mode": {
    "name": "ipython",
    "version": 3
   },
   "file_extension": ".py",
   "mimetype": "text/x-python",
   "name": "python",
   "nbconvert_exporter": "python",
   "pygments_lexer": "ipython3",
   "version": "3.7.1"
  }
 },
 "nbformat": 4,
 "nbformat_minor": 2
}
